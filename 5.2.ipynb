{
 "cells": [
  {
   "cell_type": "markdown",
   "id": "0b9d96c2",
   "metadata": {},
   "source": [
    "# 5.2 Implementation of Multilayer Perceptrons"
   ]
  },
  {
   "cell_type": "markdown",
   "id": "4609f5f7",
   "metadata": {},
   "source": [
    "MNIST contains 10 classes, and that each image consists of a  28×28=784 grid of grayscale pixel values. we will implement an MLP with one hidden layer and 256 hidden units."
   ]
  },
  {
   "cell_type": "code",
   "execution_count": 1,
   "id": "81f206bc",
   "metadata": {},
   "outputs": [],
   "source": [
    "import Flux,Plots"
   ]
  },
  {
   "cell_type": "markdown",
   "id": "03d0dd6f",
   "metadata": {},
   "source": [
    "### Model\n",
    "We’ll define our model to consist of two fully connected layers, with a softmax at the end for easing inference:"
   ]
  },
  {
   "cell_type": "code",
   "execution_count": 2,
   "id": "e067075f",
   "metadata": {},
   "outputs": [
    {
     "data": {
      "text/plain": [
       "Chain(\n",
       "  Dense(784 => 40, relu),               \u001b[90m# 31_400 parameters\u001b[39m\n",
       "  Dense(40 => 10),                      \u001b[90m# 410 parameters\u001b[39m\n",
       "  NNlib.softmax,\n",
       ") \u001b[90m                  # Total: 4 arrays, \u001b[39m31_810 parameters, 124.508 KiB."
      ]
     },
     "execution_count": 2,
     "metadata": {},
     "output_type": "execute_result"
    }
   ],
   "source": [
    "using Flux\n",
    "model = Chain(\n",
    "  Dense(28*28,40, relu),\n",
    "  Dense(40, 10),\n",
    "  softmax)\n"
   ]
  },
  {
   "cell_type": "code",
   "execution_count": 12,
   "id": "8535f083",
   "metadata": {},
   "outputs": [
    {
     "data": {
      "text/plain": [
       "15-element Vector{Float64}:\n",
       " 5.978637810056745e-13\n",
       " 4.417649017369718e-12\n",
       " 3.264225641473071e-11\n",
       " 2.411954638441241e-10\n",
       " 1.7822068131518322e-9\n",
       " 1.3168826122275303e-8\n",
       " 9.730519497455558e-8\n",
       " 7.18993544384376e-7\n",
       " 5.312683634225139e-6\n",
       " 3.925571740916031e-5\n",
       " 0.0002900626981400541\n",
       " 0.0021432895487640473\n",
       " 0.015836886712069304\n",
       " 0.11701964434788946\n",
       " 0.8646647167634682"
      ]
     },
     "execution_count": 12,
     "metadata": {},
     "output_type": "execute_result"
    }
   ],
   "source": [
    "softmax(range(-14,14,length=15))"
   ]
  },
  {
   "cell_type": "markdown",
   "id": "4e1c6fa6",
   "metadata": {},
   "source": [
    "### Data loading"
   ]
  },
  {
   "cell_type": "code",
   "execution_count": 7,
   "id": "e2dfda5b",
   "metadata": {},
   "outputs": [
    {
     "name": "stderr",
     "output_type": "stream",
     "text": [
      "┌ Warning: MNIST.traindata() is deprecated, use `MNIST(split=:train)[:]` instead.\n",
      "└ @ MLDatasets C:\\Users\\Peter.Katalin\\.julia\\packages\\MLDatasets\\bg0uc\\src\\datasets\\vision\\mnist.jl:187\n",
      "┌ Warning: MNIST.testdata() is deprecated, use `MNIST(split=:test)[:]` instead.\n",
      "└ @ MLDatasets C:\\Users\\Peter.Katalin\\.julia\\packages\\MLDatasets\\bg0uc\\src\\datasets\\vision\\mnist.jl:195\n"
     ]
    }
   ],
   "source": [
    "using MLDatasets\n",
    "\n",
    "# load training set\n",
    "train_x, train_y = MNIST.traindata();\n",
    "\n",
    "# load test set\n",
    "test_x,  test_y  = MNIST.testdata();"
   ]
  },
  {
   "cell_type": "markdown",
   "id": "95b7b0c1",
   "metadata": {},
   "source": [
    "### Preprocessing\n",
    "- convert train data from grayscale to float <br>\n",
    "- use a function from Flux to one-hot encode our labels <br>\n"
   ]
  },
  {
   "cell_type": "code",
   "execution_count": 14,
   "id": "3af6c3a6",
   "metadata": {},
   "outputs": [
    {
     "name": "stderr",
     "output_type": "stream",
     "text": [
      "Excessive output truncated after 1200024 bytes."
     ]
    }
   ],
   "source": [
    "x_train = Float32.(train_x)\n",
    "y_train = Flux.onehotbatch(train_y, 0:9);\n",
    "\n",
    "x_test = Float32.(test_x)\n",
    "y_test = Flux.onehotbatch(test_y, 0:9);"
   ]
  },
  {
   "cell_type": "code",
   "execution_count": 15,
   "id": "ed644ea7",
   "metadata": {},
   "outputs": [
    {
     "data": {
      "text/plain": [
       "10×10000 OneHotMatrix(::Vector{UInt32}) with eltype Bool:\n",
       " ⋅  ⋅  ⋅  1  ⋅  ⋅  ⋅  ⋅  ⋅  ⋅  1  ⋅  ⋅  …  ⋅  ⋅  ⋅  ⋅  ⋅  1  ⋅  ⋅  ⋅  ⋅  ⋅  ⋅\n",
       " ⋅  ⋅  1  ⋅  ⋅  1  ⋅  ⋅  ⋅  ⋅  ⋅  ⋅  ⋅     ⋅  ⋅  ⋅  ⋅  ⋅  ⋅  1  ⋅  ⋅  ⋅  ⋅  ⋅\n",
       " ⋅  1  ⋅  ⋅  ⋅  ⋅  ⋅  ⋅  ⋅  ⋅  ⋅  ⋅  ⋅     ⋅  ⋅  ⋅  ⋅  ⋅  ⋅  ⋅  1  ⋅  ⋅  ⋅  ⋅\n",
       " ⋅  ⋅  ⋅  ⋅  ⋅  ⋅  ⋅  ⋅  ⋅  ⋅  ⋅  ⋅  ⋅     ⋅  ⋅  ⋅  ⋅  ⋅  ⋅  ⋅  ⋅  1  ⋅  ⋅  ⋅\n",
       " ⋅  ⋅  ⋅  ⋅  1  ⋅  1  ⋅  ⋅  ⋅  ⋅  ⋅  ⋅     ⋅  ⋅  ⋅  ⋅  ⋅  ⋅  ⋅  ⋅  ⋅  1  ⋅  ⋅\n",
       " ⋅  ⋅  ⋅  ⋅  ⋅  ⋅  ⋅  ⋅  1  ⋅  ⋅  ⋅  ⋅  …  1  ⋅  ⋅  ⋅  ⋅  ⋅  ⋅  ⋅  ⋅  ⋅  1  ⋅\n",
       " ⋅  ⋅  ⋅  ⋅  ⋅  ⋅  ⋅  ⋅  ⋅  ⋅  ⋅  1  ⋅     ⋅  1  ⋅  ⋅  ⋅  ⋅  ⋅  ⋅  ⋅  ⋅  ⋅  1\n",
       " 1  ⋅  ⋅  ⋅  ⋅  ⋅  ⋅  ⋅  ⋅  ⋅  ⋅  ⋅  ⋅     ⋅  ⋅  1  ⋅  ⋅  ⋅  ⋅  ⋅  ⋅  ⋅  ⋅  ⋅\n",
       " ⋅  ⋅  ⋅  ⋅  ⋅  ⋅  ⋅  ⋅  ⋅  ⋅  ⋅  ⋅  ⋅     ⋅  ⋅  ⋅  1  ⋅  ⋅  ⋅  ⋅  ⋅  ⋅  ⋅  ⋅\n",
       " ⋅  ⋅  ⋅  ⋅  ⋅  ⋅  ⋅  1  ⋅  1  ⋅  ⋅  1     ⋅  ⋅  ⋅  ⋅  1  ⋅  ⋅  ⋅  ⋅  ⋅  ⋅  ⋅"
      ]
     },
     "execution_count": 15,
     "metadata": {},
     "output_type": "execute_result"
    }
   ],
   "source": [
    "y_test"
   ]
  },
  {
   "cell_type": "markdown",
   "id": "62a36e01",
   "metadata": {},
   "source": [
    "### Training\n",
    "\n",
    "We will use crossentropy, but logitcrossentropy works too. Flux documentation says: <br>\n",
    "\"This is mathematically equivalent to crossentropy(softmax(ŷ), y), but is more numerically stable than using functions crossentropy and softmax separately.\""
   ]
  },
  {
   "cell_type": "code",
   "execution_count": 16,
   "id": "ed2fabd6",
   "metadata": {},
   "outputs": [
    {
     "data": {
      "text/plain": [
       "Adam(0.001, (0.9, 0.999), 1.0e-8, IdDict{Any, Any}())"
      ]
     },
     "execution_count": 16,
     "metadata": {},
     "output_type": "execute_result"
    }
   ],
   "source": [
    "loss(X, y) = Flux.crossentropy(model(X), y)\n",
    "\n",
    "#adaptative moment estimation  (combines loss function and parameters)\n",
    "opt = Flux.ADAM()"
   ]
  },
  {
   "cell_type": "markdown",
   "id": "dff77f89",
   "metadata": {},
   "source": [
    "### Training"
   ]
  },
  {
   "cell_type": "code",
   "execution_count": 17,
   "id": "e094a94c",
   "metadata": {},
   "outputs": [
    {
     "data": {
      "text/plain": [
       "calculate_accuracy_test (generic function with 1 method)"
      ]
     },
     "execution_count": 17,
     "metadata": {},
     "output_type": "execute_result"
    }
   ],
   "source": [
    "#with this function we'll calculate the accuracy in every epoch\n",
    "using Statistics\n",
    "\n",
    "function calculate_accuracy_test()\n",
    "    test_data = [(Flux.flatten(x_test), test_y)]\n",
    "    accuracy = 0\n",
    "    err=0;\n",
    "    nr_of_errors=0\n",
    "    for i in 1:length(test_y)\n",
    "        if findmax(model(test_data[1][1][:, i]))[2] - 1  == test_y[i]\n",
    "            accuracy = accuracy + 1\n",
    "        else\n",
    "            nr_of_errors=nr_of_errors+1\n",
    "            A=abs.(model(test_data[1][1][:, i]) .- y_test[:,i])\n",
    "            aux=0\n",
    "            for a in A\n",
    "                aux=aux+a\n",
    "            end\n",
    "            err=err+aux;\n",
    "        end\n",
    "    end\n",
    "    \n",
    "    m = accuracy / length(test_y)\n",
    "    n = err/ length(test_y)\n",
    "    s = nr_of_errors \n",
    "    println(\"The val_accuracy is: \",m)\n",
    "    println(\"Mean absolute error (TEST): \",n)\n",
    "    println(\"Number of errors: \",s)\n",
    "    return m,n,s\n",
    "end"
   ]
  },
  {
   "cell_type": "code",
   "execution_count": 18,
   "id": "456c7382",
   "metadata": {},
   "outputs": [
    {
     "data": {
      "text/plain": [
       "calculate_accuracy_train (generic function with 1 method)"
      ]
     },
     "execution_count": 18,
     "metadata": {},
     "output_type": "execute_result"
    }
   ],
   "source": [
    "#with this function we'll calculate the accuracy in every epoch\n",
    "using Statistics\n",
    "\n",
    "function calculate_accuracy_train()\n",
    "    train_data = [(Flux.flatten(x_train), train_y)]\n",
    "    err=0;\n",
    "    for i in 1:length(train_y)\n",
    "        if findmax(model(train_data[1][1][:, i]))[2] - 1  != train_y[i]\n",
    "            A=abs.(model(train_data[1][1][:, i]) .- y_train[:,i])\n",
    "            aux=0\n",
    "            for a in A\n",
    "                aux=aux+a\n",
    "            end\n",
    "            err=err+aux;\n",
    "        end\n",
    "    end    \n",
    "    n = err/ length(train_y)\n",
    "    println(\"Mean absolute error (TRAIN): \",n)\n",
    "    return n\n",
    "end"
   ]
  },
  {
   "cell_type": "code",
   "execution_count": 19,
   "id": "f93b1c9c",
   "metadata": {},
   "outputs": [
    {
     "name": "stdout",
     "output_type": "stream",
     "text": [
      "epoch 1\n",
      "Mean absolute error (TRAIN): 1.4649382\n",
      "The val_accuracy is: 0.1911\n",
      "Mean absolute error (TEST): 1.4681834\n",
      "Number of errors: 8089\n",
      "epoch 2\n",
      "Mean absolute error (TRAIN): 1.3901122\n",
      "The val_accuracy is: 0.2296\n",
      "Mean absolute error (TEST): 1.3886414\n",
      "Number of errors: 7704\n",
      "epoch 3\n",
      "Mean absolute error (TRAIN): 1.2870597\n",
      "The val_accuracy is: 0.2786\n",
      "Mean absolute error (TEST): 1.2921631\n",
      "Number of errors: 7214\n",
      "epoch 4\n",
      "Mean absolute error (TRAIN): 1.1683668\n",
      "The val_accuracy is: 0.3415\n",
      "Mean absolute error (TEST): 1.1731677\n",
      "Number of errors: 6585\n",
      "epoch 5\n",
      "Mean absolute error (TRAIN): 1.048562\n",
      "The val_accuracy is: 0.4055\n",
      "Mean absolute error (TEST): 1.0540203\n",
      "Number of errors: 5945\n",
      "epoch 6\n",
      "Mean absolute error (TRAIN): 0.9408792\n",
      "The val_accuracy is: 0.4693\n",
      "Mean absolute error (TEST): 0.9374549\n",
      "Number of errors: 5307\n",
      "epoch 7\n",
      "Mean absolute error (TRAIN): 0.85425234\n",
      "The val_accuracy is: 0.5206\n",
      "Mean absolute error (TEST): 0.8447753\n",
      "Number of errors: 4794\n",
      "epoch 8\n",
      "Mean absolute error (TRAIN): 0.7896952\n",
      "The val_accuracy is: 0.5555\n",
      "Mean absolute error (TEST): 0.7814457\n",
      "Number of errors: 4445\n"
     ]
    }
   ],
   "source": [
    "using Flux\n",
    "\n",
    "parameters = Flux.params(model)\n",
    "# flatten() function converts array 28x28x60000 into 784x60000 \n",
    "train_data = [(Flux.flatten(x_train), Flux.flatten(y_train))]\n",
    "\n",
    "val_acc=zeros(0)\n",
    "mean_err_test=zeros(0)\n",
    "nr_err=zeros(0)\n",
    "mean_err_train=zeros(0)\n",
    "nr_of_epoch=8\n",
    "\n",
    "for i in 1:nr_of_epoch\n",
    "    println(\"epoch \",i)\n",
    "    Flux.train!(loss, parameters, train_data, opt)\n",
    "    \n",
    "    n = calculate_accuracy_train()\n",
    "    append!(mean_err_train,n)\n",
    "    m, n, s = calculate_accuracy_test()\n",
    "    append!( val_acc, m )\n",
    "    append!( mean_err_test, n )\n",
    "    append!( nr_err, s )\n",
    "    \n",
    "end\n",
    "\n"
   ]
  },
  {
   "cell_type": "code",
   "execution_count": 20,
   "id": "31e9dca2",
   "metadata": {},
   "outputs": [
    {
     "data": {
      "image/svg+xml": [
       "<?xml version=\"1.0\" encoding=\"utf-8\"?>\n",
       "<svg xmlns=\"http://www.w3.org/2000/svg\" xmlns:xlink=\"http://www.w3.org/1999/xlink\" width=\"500\" height=\"250\" viewBox=\"0 0 2000 1000\">\n",
       "<defs>\n",
       "  <clipPath id=\"clip390\">\n",
       "    <rect x=\"0\" y=\"0\" width=\"2000\" height=\"1000\"/>\n",
       "  </clipPath>\n",
       "</defs>\n",
       "<path clip-path=\"url(#clip390)\" d=\"\n",
       "M0 1000 L2000 1000 L2000 0 L0 0  Z\n",
       "  \" fill=\"#ffffff\" fill-rule=\"evenodd\" fill-opacity=\"1\"/>\n",
       "<defs>\n",
       "  <clipPath id=\"clip391\">\n",
       "    <rect x=\"400\" y=\"0\" width=\"1401\" height=\"1000\"/>\n",
       "  </clipPath>\n",
       "</defs>\n",
       "<path clip-path=\"url(#clip390)\" d=\"\n",
       "M152.598 901.088 L1952.76 901.088 L1952.76 47.2441 L152.598 47.2441  Z\n",
       "  \" fill=\"#ffffff\" fill-rule=\"evenodd\" fill-opacity=\"1\"/>\n",
       "<defs>\n",
       "  <clipPath id=\"clip392\">\n",
       "    <rect x=\"152\" y=\"47\" width=\"1801\" height=\"855\"/>\n",
       "  </clipPath>\n",
       "</defs>\n",
       "<polyline clip-path=\"url(#clip392)\" style=\"stroke:#000000; stroke-linecap:round; stroke-linejoin:round; stroke-width:2; stroke-opacity:0.1; fill:none\" points=\"\n",
       "  446.155,901.088 446.155,47.2441 \n",
       "  \"/>\n",
       "<polyline clip-path=\"url(#clip392)\" style=\"stroke:#000000; stroke-linecap:round; stroke-linejoin:round; stroke-width:2; stroke-opacity:0.1; fill:none\" points=\"\n",
       "  931.373,901.088 931.373,47.2441 \n",
       "  \"/>\n",
       "<polyline clip-path=\"url(#clip392)\" style=\"stroke:#000000; stroke-linecap:round; stroke-linejoin:round; stroke-width:2; stroke-opacity:0.1; fill:none\" points=\"\n",
       "  1416.59,901.088 1416.59,47.2441 \n",
       "  \"/>\n",
       "<polyline clip-path=\"url(#clip392)\" style=\"stroke:#000000; stroke-linecap:round; stroke-linejoin:round; stroke-width:2; stroke-opacity:0.1; fill:none\" points=\"\n",
       "  1901.81,901.088 1901.81,47.2441 \n",
       "  \"/>\n",
       "<polyline clip-path=\"url(#clip390)\" style=\"stroke:#000000; stroke-linecap:round; stroke-linejoin:round; stroke-width:4; stroke-opacity:1; fill:none\" points=\"\n",
       "  152.598,901.088 1952.76,901.088 \n",
       "  \"/>\n",
       "<polyline clip-path=\"url(#clip390)\" style=\"stroke:#000000; stroke-linecap:round; stroke-linejoin:round; stroke-width:4; stroke-opacity:1; fill:none\" points=\"\n",
       "  446.155,901.088 446.155,882.19 \n",
       "  \"/>\n",
       "<polyline clip-path=\"url(#clip390)\" style=\"stroke:#000000; stroke-linecap:round; stroke-linejoin:round; stroke-width:4; stroke-opacity:1; fill:none\" points=\"\n",
       "  931.373,901.088 931.373,882.19 \n",
       "  \"/>\n",
       "<polyline clip-path=\"url(#clip390)\" style=\"stroke:#000000; stroke-linecap:round; stroke-linejoin:round; stroke-width:4; stroke-opacity:1; fill:none\" points=\"\n",
       "  1416.59,901.088 1416.59,882.19 \n",
       "  \"/>\n",
       "<polyline clip-path=\"url(#clip390)\" style=\"stroke:#000000; stroke-linecap:round; stroke-linejoin:round; stroke-width:4; stroke-opacity:1; fill:none\" points=\"\n",
       "  1901.81,901.088 1901.81,882.19 \n",
       "  \"/>\n",
       "<path clip-path=\"url(#clip390)\" d=\"M440.808 956.353 L457.127 956.353 L457.127 960.288 L435.183 960.288 L435.183 956.353 Q437.845 953.598 442.428 948.968 Q447.035 944.316 448.215 942.973 Q450.46 940.45 451.34 938.714 Q452.243 936.955 452.243 935.265 Q452.243 932.51 450.298 930.774 Q448.377 929.038 445.275 929.038 Q443.076 929.038 440.623 929.802 Q438.192 930.566 435.414 932.117 L435.414 927.395 Q438.238 926.26 440.692 925.682 Q443.146 925.103 445.183 925.103 Q450.553 925.103 453.747 927.788 Q456.942 930.473 456.942 934.964 Q456.942 937.094 456.132 939.015 Q455.345 940.913 453.238 943.506 Q452.66 944.177 449.558 947.394 Q446.456 950.589 440.808 956.353 Z\" fill=\"#000000\" fill-rule=\"evenodd\" fill-opacity=\"1\" /><path clip-path=\"url(#clip390)\" d=\"M934.382 929.802 L922.576 948.251 L934.382 948.251 L934.382 929.802 M933.155 925.728 L939.035 925.728 L939.035 948.251 L943.965 948.251 L943.965 952.14 L939.035 952.14 L939.035 960.288 L934.382 960.288 L934.382 952.14 L918.78 952.14 L918.78 947.626 L933.155 925.728 Z\" fill=\"#000000\" fill-rule=\"evenodd\" fill-opacity=\"1\" /><path clip-path=\"url(#clip390)\" d=\"M1417 941.144 Q1413.85 941.144 1412 943.297 Q1410.17 945.45 1410.17 949.2 Q1410.17 952.927 1412 955.103 Q1413.85 957.255 1417 957.255 Q1420.14 957.255 1421.97 955.103 Q1423.82 952.927 1423.82 949.2 Q1423.82 945.45 1421.97 943.297 Q1420.14 941.144 1417 941.144 M1426.28 926.492 L1426.28 930.751 Q1424.52 929.918 1422.71 929.478 Q1420.93 929.038 1419.17 929.038 Q1414.54 929.038 1412.09 932.163 Q1409.66 935.288 1409.31 941.607 Q1410.68 939.594 1412.74 938.529 Q1414.8 937.441 1417.27 937.441 Q1422.48 937.441 1425.49 940.612 Q1428.52 943.76 1428.52 949.2 Q1428.52 954.524 1425.38 957.742 Q1422.23 960.959 1417 960.959 Q1411 960.959 1407.83 956.376 Q1404.66 951.769 1404.66 943.043 Q1404.66 934.848 1408.55 929.987 Q1412.44 925.103 1418.99 925.103 Q1420.75 925.103 1422.53 925.45 Q1424.33 925.797 1426.28 926.492 Z\" fill=\"#000000\" fill-rule=\"evenodd\" fill-opacity=\"1\" /><path clip-path=\"url(#clip390)\" d=\"M1901.81 943.876 Q1898.47 943.876 1896.55 945.658 Q1894.66 947.441 1894.66 950.566 Q1894.66 953.691 1896.55 955.473 Q1898.47 957.255 1901.81 957.255 Q1905.14 957.255 1907.06 955.473 Q1908.98 953.668 1908.98 950.566 Q1908.98 947.441 1907.06 945.658 Q1905.16 943.876 1901.81 943.876 M1897.13 941.885 Q1894.12 941.144 1892.43 939.084 Q1890.77 937.024 1890.77 934.061 Q1890.77 929.918 1893.71 927.51 Q1896.67 925.103 1901.81 925.103 Q1906.97 925.103 1909.91 927.51 Q1912.85 929.918 1912.85 934.061 Q1912.85 937.024 1911.16 939.084 Q1909.49 941.144 1906.51 941.885 Q1909.89 942.672 1911.76 944.964 Q1913.66 947.256 1913.66 950.566 Q1913.66 955.589 1910.58 958.274 Q1907.53 960.959 1901.81 960.959 Q1896.09 960.959 1893.01 958.274 Q1889.96 955.589 1889.96 950.566 Q1889.96 947.256 1891.85 944.964 Q1893.75 942.672 1897.13 941.885 M1895.42 934.501 Q1895.42 937.186 1897.09 938.691 Q1898.78 940.195 1901.81 940.195 Q1904.82 940.195 1906.51 938.691 Q1908.22 937.186 1908.22 934.501 Q1908.22 931.816 1906.51 930.311 Q1904.82 928.807 1901.81 928.807 Q1898.78 928.807 1897.09 930.311 Q1895.42 931.816 1895.42 934.501 Z\" fill=\"#000000\" fill-rule=\"evenodd\" fill-opacity=\"1\" /><polyline clip-path=\"url(#clip392)\" style=\"stroke:#000000; stroke-linecap:round; stroke-linejoin:round; stroke-width:2; stroke-opacity:0.1; fill:none\" points=\"\n",
       "  152.598,871.309 1952.76,871.309 \n",
       "  \"/>\n",
       "<polyline clip-path=\"url(#clip392)\" style=\"stroke:#000000; stroke-linecap:round; stroke-linejoin:round; stroke-width:2; stroke-opacity:0.1; fill:none\" points=\"\n",
       "  152.598,745.16 1952.76,745.16 \n",
       "  \"/>\n",
       "<polyline clip-path=\"url(#clip392)\" style=\"stroke:#000000; stroke-linecap:round; stroke-linejoin:round; stroke-width:2; stroke-opacity:0.1; fill:none\" points=\"\n",
       "  152.598,619.011 1952.76,619.011 \n",
       "  \"/>\n",
       "<polyline clip-path=\"url(#clip392)\" style=\"stroke:#000000; stroke-linecap:round; stroke-linejoin:round; stroke-width:2; stroke-opacity:0.1; fill:none\" points=\"\n",
       "  152.598,492.862 1952.76,492.862 \n",
       "  \"/>\n",
       "<polyline clip-path=\"url(#clip392)\" style=\"stroke:#000000; stroke-linecap:round; stroke-linejoin:round; stroke-width:2; stroke-opacity:0.1; fill:none\" points=\"\n",
       "  152.598,366.713 1952.76,366.713 \n",
       "  \"/>\n",
       "<polyline clip-path=\"url(#clip392)\" style=\"stroke:#000000; stroke-linecap:round; stroke-linejoin:round; stroke-width:2; stroke-opacity:0.1; fill:none\" points=\"\n",
       "  152.598,240.565 1952.76,240.565 \n",
       "  \"/>\n",
       "<polyline clip-path=\"url(#clip392)\" style=\"stroke:#000000; stroke-linecap:round; stroke-linejoin:round; stroke-width:2; stroke-opacity:0.1; fill:none\" points=\"\n",
       "  152.598,114.416 1952.76,114.416 \n",
       "  \"/>\n",
       "<polyline clip-path=\"url(#clip390)\" style=\"stroke:#000000; stroke-linecap:round; stroke-linejoin:round; stroke-width:4; stroke-opacity:1; fill:none\" points=\"\n",
       "  152.598,901.088 152.598,47.2441 \n",
       "  \"/>\n",
       "<polyline clip-path=\"url(#clip390)\" style=\"stroke:#000000; stroke-linecap:round; stroke-linejoin:round; stroke-width:4; stroke-opacity:1; fill:none\" points=\"\n",
       "  152.598,871.309 171.496,871.309 \n",
       "  \"/>\n",
       "<polyline clip-path=\"url(#clip390)\" style=\"stroke:#000000; stroke-linecap:round; stroke-linejoin:round; stroke-width:4; stroke-opacity:1; fill:none\" points=\"\n",
       "  152.598,745.16 171.496,745.16 \n",
       "  \"/>\n",
       "<polyline clip-path=\"url(#clip390)\" style=\"stroke:#000000; stroke-linecap:round; stroke-linejoin:round; stroke-width:4; stroke-opacity:1; fill:none\" points=\"\n",
       "  152.598,619.011 171.496,619.011 \n",
       "  \"/>\n",
       "<polyline clip-path=\"url(#clip390)\" style=\"stroke:#000000; stroke-linecap:round; stroke-linejoin:round; stroke-width:4; stroke-opacity:1; fill:none\" points=\"\n",
       "  152.598,492.862 171.496,492.862 \n",
       "  \"/>\n",
       "<polyline clip-path=\"url(#clip390)\" style=\"stroke:#000000; stroke-linecap:round; stroke-linejoin:round; stroke-width:4; stroke-opacity:1; fill:none\" points=\"\n",
       "  152.598,366.713 171.496,366.713 \n",
       "  \"/>\n",
       "<polyline clip-path=\"url(#clip390)\" style=\"stroke:#000000; stroke-linecap:round; stroke-linejoin:round; stroke-width:4; stroke-opacity:1; fill:none\" points=\"\n",
       "  152.598,240.565 171.496,240.565 \n",
       "  \"/>\n",
       "<polyline clip-path=\"url(#clip390)\" style=\"stroke:#000000; stroke-linecap:round; stroke-linejoin:round; stroke-width:4; stroke-opacity:1; fill:none\" points=\"\n",
       "  152.598,114.416 171.496,114.416 \n",
       "  \"/>\n",
       "<path clip-path=\"url(#clip390)\" d=\"M67.0198 857.108 Q63.4087 857.108 61.58 860.672 Q59.7745 864.214 59.7745 871.344 Q59.7745 878.45 61.58 882.015 Q63.4087 885.556 67.0198 885.556 Q70.6541 885.556 72.4596 882.015 Q74.2883 878.45 74.2883 871.344 Q74.2883 864.214 72.4596 860.672 Q70.6541 857.108 67.0198 857.108 M67.0198 853.404 Q72.83 853.404 75.8855 858.01 Q78.9642 862.594 78.9642 871.344 Q78.9642 880.07 75.8855 884.677 Q72.83 889.26 67.0198 889.26 Q61.2097 889.26 58.131 884.677 Q55.0754 880.07 55.0754 871.344 Q55.0754 862.594 58.131 858.01 Q61.2097 853.404 67.0198 853.404 Z\" fill=\"#000000\" fill-rule=\"evenodd\" fill-opacity=\"1\" /><path clip-path=\"url(#clip390)\" d=\"M87.1818 882.709 L92.066 882.709 L92.066 888.589 L87.1818 888.589 L87.1818 882.709 Z\" fill=\"#000000\" fill-rule=\"evenodd\" fill-opacity=\"1\" /><path clip-path=\"url(#clip390)\" d=\"M106.279 884.654 L122.598 884.654 L122.598 888.589 L100.654 888.589 L100.654 884.654 Q103.316 881.899 107.899 877.269 Q112.506 872.617 113.686 871.274 Q115.932 868.751 116.811 867.015 Q117.714 865.256 117.714 863.566 Q117.714 860.811 115.77 859.075 Q113.848 857.339 110.746 857.339 Q108.547 857.339 106.094 858.103 Q103.663 858.867 100.885 860.418 L100.885 855.696 Q103.709 854.561 106.163 853.983 Q108.617 853.404 110.654 853.404 Q116.024 853.404 119.219 856.089 Q122.413 858.774 122.413 863.265 Q122.413 865.395 121.603 867.316 Q120.816 869.214 118.709 871.807 Q118.131 872.478 115.029 875.695 Q111.927 878.89 106.279 884.654 Z\" fill=\"#000000\" fill-rule=\"evenodd\" fill-opacity=\"1\" /><path clip-path=\"url(#clip390)\" d=\"M64.9365 730.959 Q61.3254 730.959 59.4967 734.523 Q57.6912 738.065 57.6912 745.195 Q57.6912 752.301 59.4967 755.866 Q61.3254 759.408 64.9365 759.408 Q68.5707 759.408 70.3763 755.866 Q72.205 752.301 72.205 745.195 Q72.205 738.065 70.3763 734.523 Q68.5707 730.959 64.9365 730.959 M64.9365 727.255 Q70.7467 727.255 73.8022 731.861 Q76.8809 736.445 76.8809 745.195 Q76.8809 753.922 73.8022 758.528 Q70.7467 763.111 64.9365 763.111 Q59.1264 763.111 56.0477 758.528 Q52.9921 753.922 52.9921 745.195 Q52.9921 736.445 56.0477 731.861 Q59.1264 727.255 64.9365 727.255 Z\" fill=\"#000000\" fill-rule=\"evenodd\" fill-opacity=\"1\" /><path clip-path=\"url(#clip390)\" d=\"M85.0984 756.56 L89.9827 756.56 L89.9827 762.44 L85.0984 762.44 L85.0984 756.56 Z\" fill=\"#000000\" fill-rule=\"evenodd\" fill-opacity=\"1\" /><path clip-path=\"url(#clip390)\" d=\"M113.015 731.954 L101.209 750.403 L113.015 750.403 L113.015 731.954 M111.788 727.88 L117.668 727.88 L117.668 750.403 L122.598 750.403 L122.598 754.292 L117.668 754.292 L117.668 762.44 L113.015 762.44 L113.015 754.292 L97.4132 754.292 L97.4132 749.778 L111.788 727.88 Z\" fill=\"#000000\" fill-rule=\"evenodd\" fill-opacity=\"1\" /><path clip-path=\"url(#clip390)\" d=\"M65.2606 604.81 Q61.6495 604.81 59.8208 608.375 Q58.0152 611.916 58.0152 619.046 Q58.0152 626.152 59.8208 629.717 Q61.6495 633.259 65.2606 633.259 Q68.8948 633.259 70.7004 629.717 Q72.5291 626.152 72.5291 619.046 Q72.5291 611.916 70.7004 608.375 Q68.8948 604.81 65.2606 604.81 M65.2606 601.106 Q71.0707 601.106 74.1263 605.713 Q77.205 610.296 77.205 619.046 Q77.205 627.773 74.1263 632.379 Q71.0707 636.962 65.2606 636.962 Q59.4504 636.962 56.3717 632.379 Q53.3162 627.773 53.3162 619.046 Q53.3162 610.296 56.3717 605.713 Q59.4504 601.106 65.2606 601.106 Z\" fill=\"#000000\" fill-rule=\"evenodd\" fill-opacity=\"1\" /><path clip-path=\"url(#clip390)\" d=\"M85.4225 630.412 L90.3067 630.412 L90.3067 636.291 L85.4225 636.291 L85.4225 630.412 Z\" fill=\"#000000\" fill-rule=\"evenodd\" fill-opacity=\"1\" /><path clip-path=\"url(#clip390)\" d=\"M111.071 617.148 Q107.922 617.148 106.071 619.301 Q104.242 621.453 104.242 625.203 Q104.242 628.93 106.071 631.106 Q107.922 633.259 111.071 633.259 Q114.219 633.259 116.047 631.106 Q117.899 628.93 117.899 625.203 Q117.899 621.453 116.047 619.301 Q114.219 617.148 111.071 617.148 M120.353 602.495 L120.353 606.754 Q118.594 605.921 116.788 605.481 Q115.006 605.041 113.246 605.041 Q108.617 605.041 106.163 608.166 Q103.733 611.291 103.385 617.611 Q104.751 615.597 106.811 614.532 Q108.871 613.444 111.348 613.444 Q116.557 613.444 119.566 616.615 Q122.598 619.763 122.598 625.203 Q122.598 630.527 119.45 633.745 Q116.302 636.962 111.071 636.962 Q105.075 636.962 101.904 632.379 Q98.7326 627.773 98.7326 619.046 Q98.7326 610.851 102.621 605.99 Q106.51 601.106 113.061 601.106 Q114.82 601.106 116.603 601.453 Q118.408 601.801 120.353 602.495 Z\" fill=\"#000000\" fill-rule=\"evenodd\" fill-opacity=\"1\" /><path clip-path=\"url(#clip390)\" d=\"M65.5152 478.661 Q61.9041 478.661 60.0754 482.226 Q58.2699 485.767 58.2699 492.897 Q58.2699 500.003 60.0754 503.568 Q61.9041 507.11 65.5152 507.11 Q69.1494 507.11 70.955 503.568 Q72.7837 500.003 72.7837 492.897 Q72.7837 485.767 70.955 482.226 Q69.1494 478.661 65.5152 478.661 M65.5152 474.957 Q71.3254 474.957 74.3809 479.564 Q77.4596 484.147 77.4596 492.897 Q77.4596 501.624 74.3809 506.23 Q71.3254 510.814 65.5152 510.814 Q59.7051 510.814 56.6264 506.23 Q53.5708 501.624 53.5708 492.897 Q53.5708 484.147 56.6264 479.564 Q59.7051 474.957 65.5152 474.957 Z\" fill=\"#000000\" fill-rule=\"evenodd\" fill-opacity=\"1\" /><path clip-path=\"url(#clip390)\" d=\"M85.6771 504.263 L90.5614 504.263 L90.5614 510.142 L85.6771 510.142 L85.6771 504.263 Z\" fill=\"#000000\" fill-rule=\"evenodd\" fill-opacity=\"1\" /><path clip-path=\"url(#clip390)\" d=\"M110.746 493.73 Q107.413 493.73 105.492 495.513 Q103.594 497.295 103.594 500.42 Q103.594 503.545 105.492 505.328 Q107.413 507.11 110.746 507.11 Q114.08 507.11 116.001 505.328 Q117.922 503.522 117.922 500.42 Q117.922 497.295 116.001 495.513 Q114.103 493.73 110.746 493.73 M106.071 491.74 Q103.061 490.999 101.371 488.939 Q99.7048 486.879 99.7048 483.916 Q99.7048 479.772 102.645 477.365 Q105.608 474.957 110.746 474.957 Q115.908 474.957 118.848 477.365 Q121.788 479.772 121.788 483.916 Q121.788 486.879 120.098 488.939 Q118.432 490.999 115.445 491.74 Q118.825 492.527 120.7 494.818 Q122.598 497.11 122.598 500.42 Q122.598 505.443 119.52 508.128 Q116.464 510.814 110.746 510.814 Q105.029 510.814 101.95 508.128 Q98.8947 505.443 98.8947 500.42 Q98.8947 497.11 100.793 494.818 Q102.691 492.527 106.071 491.74 M104.358 484.355 Q104.358 487.041 106.024 488.545 Q107.714 490.05 110.746 490.05 Q113.756 490.05 115.445 488.545 Q117.158 487.041 117.158 484.355 Q117.158 481.67 115.445 480.166 Q113.756 478.661 110.746 478.661 Q107.714 478.661 106.024 480.166 Q104.358 481.67 104.358 484.355 Z\" fill=\"#000000\" fill-rule=\"evenodd\" fill-opacity=\"1\" /><path clip-path=\"url(#clip390)\" d=\"M56.2328 380.058 L63.8717 380.058 L63.8717 353.693 L55.5616 355.359 L55.5616 351.1 L63.8254 349.433 L68.5013 349.433 L68.5013 380.058 L76.1402 380.058 L76.1402 383.993 L56.2328 383.993 L56.2328 380.058 Z\" fill=\"#000000\" fill-rule=\"evenodd\" fill-opacity=\"1\" /><path clip-path=\"url(#clip390)\" d=\"M85.5845 378.114 L90.4688 378.114 L90.4688 383.993 L85.5845 383.993 L85.5845 378.114 Z\" fill=\"#000000\" fill-rule=\"evenodd\" fill-opacity=\"1\" /><path clip-path=\"url(#clip390)\" d=\"M110.654 352.512 Q107.043 352.512 105.214 356.077 Q103.409 359.619 103.409 366.748 Q103.409 373.855 105.214 377.419 Q107.043 380.961 110.654 380.961 Q114.288 380.961 116.094 377.419 Q117.922 373.855 117.922 366.748 Q117.922 359.619 116.094 356.077 Q114.288 352.512 110.654 352.512 M110.654 348.808 Q116.464 348.808 119.52 353.415 Q122.598 357.998 122.598 366.748 Q122.598 375.475 119.52 380.081 Q116.464 384.665 110.654 384.665 Q104.844 384.665 101.765 380.081 Q98.7095 375.475 98.7095 366.748 Q98.7095 357.998 101.765 353.415 Q104.844 348.808 110.654 348.808 Z\" fill=\"#000000\" fill-rule=\"evenodd\" fill-opacity=\"1\" /><path clip-path=\"url(#clip390)\" d=\"M57.8301 253.909 L65.4689 253.909 L65.4689 227.544 L57.1588 229.211 L57.1588 224.951 L65.4226 223.285 L70.0985 223.285 L70.0985 253.909 L77.7374 253.909 L77.7374 257.845 L57.8301 257.845 L57.8301 253.909 Z\" fill=\"#000000\" fill-rule=\"evenodd\" fill-opacity=\"1\" /><path clip-path=\"url(#clip390)\" d=\"M87.1818 251.965 L92.066 251.965 L92.066 257.845 L87.1818 257.845 L87.1818 251.965 Z\" fill=\"#000000\" fill-rule=\"evenodd\" fill-opacity=\"1\" /><path clip-path=\"url(#clip390)\" d=\"M106.279 253.909 L122.598 253.909 L122.598 257.845 L100.654 257.845 L100.654 253.909 Q103.316 251.155 107.899 246.525 Q112.506 241.872 113.686 240.53 Q115.932 238.007 116.811 236.271 Q117.714 234.511 117.714 232.822 Q117.714 230.067 115.77 228.331 Q113.848 226.595 110.746 226.595 Q108.547 226.595 106.094 227.359 Q103.663 228.123 100.885 229.673 L100.885 224.951 Q103.709 223.817 106.163 223.238 Q108.617 222.66 110.654 222.66 Q116.024 222.66 119.219 225.345 Q122.413 228.03 122.413 232.521 Q122.413 234.65 121.603 236.572 Q120.816 238.47 118.709 241.062 Q118.131 241.734 115.029 244.951 Q111.927 248.146 106.279 253.909 Z\" fill=\"#000000\" fill-rule=\"evenodd\" fill-opacity=\"1\" /><path clip-path=\"url(#clip390)\" d=\"M55.7467 127.761 L63.3856 127.761 L63.3856 101.395 L55.0754 103.062 L55.0754 98.8024 L63.3393 97.1358 L68.0152 97.1358 L68.0152 127.761 L75.654 127.761 L75.654 131.696 L55.7467 131.696 L55.7467 127.761 Z\" fill=\"#000000\" fill-rule=\"evenodd\" fill-opacity=\"1\" /><path clip-path=\"url(#clip390)\" d=\"M85.0984 125.816 L89.9827 125.816 L89.9827 131.696 L85.0984 131.696 L85.0984 125.816 Z\" fill=\"#000000\" fill-rule=\"evenodd\" fill-opacity=\"1\" /><path clip-path=\"url(#clip390)\" d=\"M113.015 101.21 L101.209 119.659 L113.015 119.659 L113.015 101.21 M111.788 97.1358 L117.668 97.1358 L117.668 119.659 L122.598 119.659 L122.598 123.548 L117.668 123.548 L117.668 131.696 L113.015 131.696 L113.015 123.548 L97.4132 123.548 L97.4132 119.034 L111.788 97.1358 Z\" fill=\"#000000\" fill-rule=\"evenodd\" fill-opacity=\"1\" /><polyline clip-path=\"url(#clip392)\" style=\"stroke:#009af9; stroke-linecap:round; stroke-linejoin:round; stroke-width:4; stroke-opacity:1; fill:none\" points=\"\n",
       "  203.546,876.922 446.155,852.639 688.764,821.732 931.373,782.059 1173.98,741.691 1416.59,701.449 1659.2,669.092 1901.81,647.079 \n",
       "  \"/>\n",
       "<polyline clip-path=\"url(#clip392)\" style=\"stroke:#e26f46; stroke-linecap:round; stroke-linejoin:round; stroke-width:4; stroke-opacity:1; fill:none\" points=\"\n",
       "  203.546,71.4095 446.155,121.58 688.764,182.433 931.373,257.489 1173.98,332.64 1416.59,406.163 1659.2,464.621 1901.81,504.565 \n",
       "  \"/>\n",
       "<polyline clip-path=\"url(#clip392)\" style=\"stroke:#3da44d; stroke-linecap:round; stroke-linejoin:round; stroke-width:4; stroke-opacity:1; fill:none\" points=\"\n",
       "  203.546,73.4564 446.155,120.652 688.764,185.652 931.373,260.517 1173.98,336.083 1416.59,404.004 1659.2,458.643 1901.81,499.362 \n",
       "  \"/>\n",
       "<path clip-path=\"url(#clip390)\" d=\"\n",
       "M1341.55 872.626 L1892.75 872.626 L1892.75 665.266 L1341.55 665.266  Z\n",
       "  \" fill=\"#ffffff\" fill-rule=\"evenodd\" fill-opacity=\"1\"/>\n",
       "<polyline clip-path=\"url(#clip390)\" style=\"stroke:#000000; stroke-linecap:round; stroke-linejoin:round; stroke-width:4; stroke-opacity:1; fill:none\" points=\"\n",
       "  1341.55,872.626 1892.75,872.626 1892.75,665.266 1341.55,665.266 1341.55,872.626 \n",
       "  \"/>\n",
       "<polyline clip-path=\"url(#clip390)\" style=\"stroke:#009af9; stroke-linecap:round; stroke-linejoin:round; stroke-width:4; stroke-opacity:1; fill:none\" points=\"\n",
       "  1361.56,717.106 1481.57,717.106 \n",
       "  \"/>\n",
       "<path clip-path=\"url(#clip390)\" d=\"M1501.57 708.461 L1506.08 708.461 L1514.18 730.22 L1522.29 708.461 L1526.8 708.461 L1517.08 734.386 L1511.29 734.386 L1501.57 708.461 Z\" fill=\"#000000\" fill-rule=\"evenodd\" fill-opacity=\"1\" /><path clip-path=\"url(#clip390)\" d=\"M1544.46 721.354 Q1539.3 721.354 1537.31 722.535 Q1535.32 723.715 1535.32 726.562 Q1535.32 728.831 1536.8 730.173 Q1538.3 731.493 1540.87 731.493 Q1544.42 731.493 1546.55 728.993 Q1548.7 726.47 1548.7 722.303 L1548.7 721.354 L1544.46 721.354 M1552.96 719.595 L1552.96 734.386 L1548.7 734.386 L1548.7 730.451 Q1547.24 732.812 1545.06 733.947 Q1542.89 735.058 1539.74 735.058 Q1535.76 735.058 1533.4 732.835 Q1531.06 730.59 1531.06 726.84 Q1531.06 722.465 1533.98 720.243 Q1536.92 718.021 1542.73 718.021 L1548.7 718.021 L1548.7 717.604 Q1548.7 714.664 1546.75 713.067 Q1544.83 711.447 1541.34 711.447 Q1539.11 711.447 1537.01 711.979 Q1534.9 712.512 1532.96 713.576 L1532.96 709.641 Q1535.3 708.738 1537.49 708.299 Q1539.69 707.836 1541.78 707.836 Q1547.4 707.836 1550.18 710.752 Q1552.96 713.669 1552.96 719.595 Z\" fill=\"#000000\" fill-rule=\"evenodd\" fill-opacity=\"1\" /><path clip-path=\"url(#clip390)\" d=\"M1561.73 698.368 L1565.99 698.368 L1565.99 734.386 L1561.73 734.386 L1561.73 698.368 Z\" fill=\"#000000\" fill-rule=\"evenodd\" fill-opacity=\"1\" /><path clip-path=\"url(#clip390)\" d=\"M1594.6 742.257 L1594.6 745.567 L1569.97 745.567 L1569.97 742.257 L1594.6 742.257 Z\" fill=\"#000000\" fill-rule=\"evenodd\" fill-opacity=\"1\" /><path clip-path=\"url(#clip390)\" d=\"M1610.39 721.354 Q1605.23 721.354 1603.23 722.535 Q1601.24 723.715 1601.24 726.562 Q1601.24 728.831 1602.73 730.173 Q1604.23 731.493 1606.8 731.493 Q1610.34 731.493 1612.47 728.993 Q1614.62 726.47 1614.62 722.303 L1614.62 721.354 L1610.39 721.354 M1618.88 719.595 L1618.88 734.386 L1614.62 734.386 L1614.62 730.451 Q1613.17 732.812 1610.99 733.947 Q1608.81 735.058 1605.67 735.058 Q1601.68 735.058 1599.32 732.835 Q1596.98 730.59 1596.98 726.84 Q1596.98 722.465 1599.9 720.243 Q1602.84 718.021 1608.65 718.021 L1614.62 718.021 L1614.62 717.604 Q1614.62 714.664 1612.68 713.067 Q1610.76 711.447 1607.26 711.447 Q1605.04 711.447 1602.93 711.979 Q1600.83 712.512 1598.88 713.576 L1598.88 709.641 Q1601.22 708.738 1603.42 708.299 Q1605.62 707.836 1607.7 707.836 Q1613.33 707.836 1616.1 710.752 Q1618.88 713.669 1618.88 719.595 Z\" fill=\"#000000\" fill-rule=\"evenodd\" fill-opacity=\"1\" /><path clip-path=\"url(#clip390)\" d=\"M1646.31 709.456 L1646.31 713.437 Q1644.51 712.442 1642.68 711.956 Q1640.87 711.447 1639.02 711.447 Q1634.88 711.447 1632.59 714.086 Q1630.29 716.701 1630.29 721.447 Q1630.29 726.192 1632.59 728.831 Q1634.88 731.447 1639.02 731.447 Q1640.87 731.447 1642.68 730.961 Q1644.51 730.451 1646.31 729.456 L1646.31 733.391 Q1644.53 734.224 1642.61 734.641 Q1640.71 735.058 1638.56 735.058 Q1632.7 735.058 1629.25 731.377 Q1625.8 727.697 1625.8 721.447 Q1625.8 715.104 1629.28 711.47 Q1632.77 707.836 1638.84 707.836 Q1640.8 707.836 1642.68 708.252 Q1644.55 708.646 1646.31 709.456 Z\" fill=\"#000000\" fill-rule=\"evenodd\" fill-opacity=\"1\" /><path clip-path=\"url(#clip390)\" d=\"M1672.38 709.456 L1672.38 713.437 Q1670.57 712.442 1668.74 711.956 Q1666.94 711.447 1665.09 711.447 Q1660.94 711.447 1658.65 714.086 Q1656.36 716.701 1656.36 721.447 Q1656.36 726.192 1658.65 728.831 Q1660.94 731.447 1665.09 731.447 Q1666.94 731.447 1668.74 730.961 Q1670.57 730.451 1672.38 729.456 L1672.38 733.391 Q1670.6 734.224 1668.67 734.641 Q1666.78 735.058 1664.62 735.058 Q1658.77 735.058 1655.32 731.377 Q1651.87 727.697 1651.87 721.447 Q1651.87 715.104 1655.34 711.47 Q1658.84 707.836 1664.9 707.836 Q1666.87 707.836 1668.74 708.252 Q1670.62 708.646 1672.38 709.456 Z\" fill=\"#000000\" fill-rule=\"evenodd\" fill-opacity=\"1\" /><polyline clip-path=\"url(#clip390)\" style=\"stroke:#e26f46; stroke-linecap:round; stroke-linejoin:round; stroke-width:4; stroke-opacity:1; fill:none\" points=\"\n",
       "  1361.56,768.946 1481.57,768.946 \n",
       "  \"/>\n",
       "<path clip-path=\"url(#clip390)\" d=\"M1521.92 765.277 Q1523.51 762.407 1525.74 761.041 Q1527.96 759.676 1530.97 759.676 Q1535.02 759.676 1537.22 762.523 Q1539.42 765.347 1539.42 770.578 L1539.42 786.226 L1535.13 786.226 L1535.13 770.717 Q1535.13 766.99 1533.81 765.185 Q1532.49 763.379 1529.79 763.379 Q1526.48 763.379 1524.55 765.578 Q1522.63 767.777 1522.63 771.574 L1522.63 786.226 L1518.35 786.226 L1518.35 770.717 Q1518.35 766.967 1517.03 765.185 Q1515.71 763.379 1512.96 763.379 Q1509.69 763.379 1507.77 765.602 Q1505.85 767.801 1505.85 771.574 L1505.85 786.226 L1501.57 786.226 L1501.57 760.301 L1505.85 760.301 L1505.85 764.328 Q1507.31 761.944 1509.35 760.81 Q1511.38 759.676 1514.18 759.676 Q1517.01 759.676 1518.98 761.111 Q1520.97 762.546 1521.92 765.277 Z\" fill=\"#000000\" fill-rule=\"evenodd\" fill-opacity=\"1\" /><path clip-path=\"url(#clip390)\" d=\"M1570.09 772.199 L1570.09 774.282 L1550.5 774.282 Q1550.78 778.68 1553.14 780.995 Q1555.53 783.287 1559.76 783.287 Q1562.22 783.287 1564.51 782.685 Q1566.82 782.083 1569.09 780.879 L1569.09 784.907 Q1566.8 785.879 1564.39 786.388 Q1561.98 786.898 1559.51 786.898 Q1553.3 786.898 1549.67 783.287 Q1546.06 779.676 1546.06 773.518 Q1546.06 767.152 1549.48 763.426 Q1552.93 759.676 1558.77 759.676 Q1564 759.676 1567.03 763.055 Q1570.09 766.412 1570.09 772.199 M1565.83 770.949 Q1565.78 767.453 1563.86 765.37 Q1561.96 763.287 1558.81 763.287 Q1555.25 763.287 1553.1 765.301 Q1550.97 767.314 1550.64 770.972 L1565.83 770.949 Z\" fill=\"#000000\" fill-rule=\"evenodd\" fill-opacity=\"1\" /><path clip-path=\"url(#clip390)\" d=\"M1588.86 773.194 Q1583.7 773.194 1581.71 774.375 Q1579.72 775.555 1579.72 778.402 Q1579.72 780.671 1581.2 782.013 Q1582.7 783.333 1585.27 783.333 Q1588.81 783.333 1590.94 780.833 Q1593.1 778.31 1593.1 774.143 L1593.1 773.194 L1588.86 773.194 M1597.35 771.435 L1597.35 786.226 L1593.1 786.226 L1593.1 782.291 Q1591.64 784.652 1589.46 785.787 Q1587.29 786.898 1584.14 786.898 Q1580.16 786.898 1577.79 784.675 Q1575.46 782.43 1575.46 778.68 Q1575.46 774.305 1578.37 772.083 Q1581.31 769.861 1587.12 769.861 L1593.1 769.861 L1593.1 769.444 Q1593.1 766.504 1591.15 764.907 Q1589.23 763.287 1585.73 763.287 Q1583.51 763.287 1581.41 763.819 Q1579.3 764.352 1577.36 765.416 L1577.36 761.481 Q1579.69 760.578 1581.89 760.139 Q1584.09 759.676 1586.17 759.676 Q1591.8 759.676 1594.58 762.592 Q1597.35 765.509 1597.35 771.435 Z\" fill=\"#000000\" fill-rule=\"evenodd\" fill-opacity=\"1\" /><path clip-path=\"url(#clip390)\" d=\"M1627.68 770.578 L1627.68 786.226 L1623.42 786.226 L1623.42 770.717 Q1623.42 767.037 1621.98 765.208 Q1620.55 763.379 1617.68 763.379 Q1614.23 763.379 1612.24 765.578 Q1610.25 767.777 1610.25 771.574 L1610.25 786.226 L1605.97 786.226 L1605.97 760.301 L1610.25 760.301 L1610.25 764.328 Q1611.78 761.99 1613.84 760.833 Q1615.92 759.676 1618.63 759.676 Q1623.1 759.676 1625.39 762.453 Q1627.68 765.208 1627.68 770.578 Z\" fill=\"#000000\" fill-rule=\"evenodd\" fill-opacity=\"1\" /><path clip-path=\"url(#clip390)\" d=\"M1655.87 794.097 L1655.87 797.407 L1631.24 797.407 L1631.24 794.097 L1655.87 794.097 Z\" fill=\"#000000\" fill-rule=\"evenodd\" fill-opacity=\"1\" /><path clip-path=\"url(#clip390)\" d=\"M1682.05 772.199 L1682.05 774.282 L1662.47 774.282 Q1662.75 778.68 1665.11 780.995 Q1667.49 783.287 1671.73 783.287 Q1674.18 783.287 1676.47 782.685 Q1678.79 782.083 1681.06 780.879 L1681.06 784.907 Q1678.77 785.879 1676.36 786.388 Q1673.95 786.898 1671.47 786.898 Q1665.27 786.898 1661.64 783.287 Q1658.03 779.676 1658.03 773.518 Q1658.03 767.152 1661.45 763.426 Q1664.9 759.676 1670.73 759.676 Q1675.97 759.676 1679 763.055 Q1682.05 766.412 1682.05 772.199 M1677.79 770.949 Q1677.75 767.453 1675.83 765.37 Q1673.93 763.287 1670.78 763.287 Q1667.22 763.287 1665.06 765.301 Q1662.93 767.314 1662.61 770.972 L1677.79 770.949 Z\" fill=\"#000000\" fill-rule=\"evenodd\" fill-opacity=\"1\" /><path clip-path=\"url(#clip390)\" d=\"M1704.07 764.282 Q1703.35 763.865 1702.49 763.68 Q1701.66 763.472 1700.64 763.472 Q1697.03 763.472 1695.09 765.833 Q1693.16 768.171 1693.16 772.569 L1693.16 786.226 L1688.88 786.226 L1688.88 760.301 L1693.16 760.301 L1693.16 764.328 Q1694.51 761.967 1696.66 760.833 Q1698.81 759.676 1701.89 759.676 Q1702.33 759.676 1702.86 759.745 Q1703.4 759.791 1704.04 759.907 L1704.07 764.282 Z\" fill=\"#000000\" fill-rule=\"evenodd\" fill-opacity=\"1\" /><path clip-path=\"url(#clip390)\" d=\"M1722.72 764.282 Q1722.01 763.865 1721.15 763.68 Q1720.32 763.472 1719.3 763.472 Q1715.69 763.472 1713.74 765.833 Q1711.82 768.171 1711.82 772.569 L1711.82 786.226 L1707.54 786.226 L1707.54 760.301 L1711.82 760.301 L1711.82 764.328 Q1713.16 761.967 1715.32 760.833 Q1717.47 759.676 1720.55 759.676 Q1720.99 759.676 1721.52 759.745 Q1722.05 759.791 1722.7 759.907 L1722.72 764.282 Z\" fill=\"#000000\" fill-rule=\"evenodd\" fill-opacity=\"1\" /><path clip-path=\"url(#clip390)\" d=\"M1746.89 794.097 L1746.89 797.407 L1722.26 797.407 L1722.26 794.097 L1746.89 794.097 Z\" fill=\"#000000\" fill-rule=\"evenodd\" fill-opacity=\"1\" /><path clip-path=\"url(#clip390)\" d=\"M1755.11 752.94 L1755.11 760.301 L1763.88 760.301 L1763.88 763.611 L1755.11 763.611 L1755.11 777.685 Q1755.11 780.856 1755.97 781.759 Q1756.84 782.662 1759.51 782.662 L1763.88 782.662 L1763.88 786.226 L1759.51 786.226 Q1754.58 786.226 1752.7 784.398 Q1750.83 782.546 1750.83 777.685 L1750.83 763.611 L1747.7 763.611 L1747.7 760.301 L1750.83 760.301 L1750.83 752.94 L1755.11 752.94 Z\" fill=\"#000000\" fill-rule=\"evenodd\" fill-opacity=\"1\" /><path clip-path=\"url(#clip390)\" d=\"M1791.66 772.199 L1791.66 774.282 L1772.08 774.282 Q1772.35 778.68 1774.72 780.995 Q1777.1 783.287 1781.34 783.287 Q1783.79 783.287 1786.08 782.685 Q1788.4 782.083 1790.66 780.879 L1790.66 784.907 Q1788.37 785.879 1785.97 786.388 Q1783.56 786.898 1781.08 786.898 Q1774.88 786.898 1771.24 783.287 Q1767.63 779.676 1767.63 773.518 Q1767.63 767.152 1771.06 763.426 Q1774.51 759.676 1780.34 759.676 Q1785.57 759.676 1788.6 763.055 Q1791.66 766.412 1791.66 772.199 M1787.4 770.949 Q1787.35 767.453 1785.43 765.37 Q1783.53 763.287 1780.39 763.287 Q1776.82 763.287 1774.67 765.301 Q1772.54 767.314 1772.22 770.972 L1787.4 770.949 Z\" fill=\"#000000\" fill-rule=\"evenodd\" fill-opacity=\"1\" /><path clip-path=\"url(#clip390)\" d=\"M1815.18 761.065 L1815.18 765.092 Q1813.37 764.166 1811.43 763.703 Q1809.48 763.24 1807.4 763.24 Q1804.23 763.24 1802.63 764.213 Q1801.06 765.185 1801.06 767.129 Q1801.06 768.611 1802.19 769.467 Q1803.33 770.301 1806.75 771.064 L1808.21 771.389 Q1812.75 772.361 1814.65 774.143 Q1816.57 775.902 1816.57 779.074 Q1816.57 782.685 1813.7 784.791 Q1810.85 786.898 1805.85 786.898 Q1803.77 786.898 1801.5 786.481 Q1799.25 786.088 1796.75 785.277 L1796.75 780.879 Q1799.11 782.106 1801.4 782.731 Q1803.7 783.333 1805.94 783.333 Q1808.95 783.333 1810.57 782.314 Q1812.19 781.273 1812.19 779.398 Q1812.19 777.662 1811.01 776.736 Q1809.85 775.81 1805.9 774.953 L1804.41 774.606 Q1800.46 773.773 1798.7 772.06 Q1796.94 770.324 1796.94 767.314 Q1796.94 763.657 1799.53 761.666 Q1802.12 759.676 1806.89 759.676 Q1809.25 759.676 1811.34 760.023 Q1813.42 760.37 1815.18 761.065 Z\" fill=\"#000000\" fill-rule=\"evenodd\" fill-opacity=\"1\" /><path clip-path=\"url(#clip390)\" d=\"M1827.56 752.94 L1827.56 760.301 L1836.34 760.301 L1836.34 763.611 L1827.56 763.611 L1827.56 777.685 Q1827.56 780.856 1828.42 781.759 Q1829.3 782.662 1831.96 782.662 L1836.34 782.662 L1836.34 786.226 L1831.96 786.226 Q1827.03 786.226 1825.15 784.398 Q1823.28 782.546 1823.28 777.685 L1823.28 763.611 L1820.15 763.611 L1820.15 760.301 L1823.28 760.301 L1823.28 752.94 L1827.56 752.94 Z\" fill=\"#000000\" fill-rule=\"evenodd\" fill-opacity=\"1\" /><polyline clip-path=\"url(#clip390)\" style=\"stroke:#3da44d; stroke-linecap:round; stroke-linejoin:round; stroke-width:4; stroke-opacity:1; fill:none\" points=\"\n",
       "  1361.56,820.786 1481.57,820.786 \n",
       "  \"/>\n",
       "<path clip-path=\"url(#clip390)\" d=\"M1521.92 817.117 Q1523.51 814.247 1525.74 812.881 Q1527.96 811.516 1530.97 811.516 Q1535.02 811.516 1537.22 814.363 Q1539.42 817.187 1539.42 822.418 L1539.42 838.066 L1535.13 838.066 L1535.13 822.557 Q1535.13 818.83 1533.81 817.025 Q1532.49 815.219 1529.79 815.219 Q1526.48 815.219 1524.55 817.418 Q1522.63 819.617 1522.63 823.414 L1522.63 838.066 L1518.35 838.066 L1518.35 822.557 Q1518.35 818.807 1517.03 817.025 Q1515.71 815.219 1512.96 815.219 Q1509.69 815.219 1507.77 817.442 Q1505.85 819.641 1505.85 823.414 L1505.85 838.066 L1501.57 838.066 L1501.57 812.141 L1505.85 812.141 L1505.85 816.168 Q1507.31 813.784 1509.35 812.65 Q1511.38 811.516 1514.18 811.516 Q1517.01 811.516 1518.98 812.951 Q1520.97 814.386 1521.92 817.117 Z\" fill=\"#000000\" fill-rule=\"evenodd\" fill-opacity=\"1\" /><path clip-path=\"url(#clip390)\" d=\"M1570.09 824.039 L1570.09 826.122 L1550.5 826.122 Q1550.78 830.52 1553.14 832.835 Q1555.53 835.127 1559.76 835.127 Q1562.22 835.127 1564.51 834.525 Q1566.82 833.923 1569.09 832.719 L1569.09 836.747 Q1566.8 837.719 1564.39 838.228 Q1561.98 838.738 1559.51 838.738 Q1553.3 838.738 1549.67 835.127 Q1546.06 831.516 1546.06 825.358 Q1546.06 818.992 1549.48 815.266 Q1552.93 811.516 1558.77 811.516 Q1564 811.516 1567.03 814.895 Q1570.09 818.252 1570.09 824.039 M1565.83 822.789 Q1565.78 819.293 1563.86 817.21 Q1561.96 815.127 1558.81 815.127 Q1555.25 815.127 1553.1 817.141 Q1550.97 819.154 1550.64 822.812 L1565.83 822.789 Z\" fill=\"#000000\" fill-rule=\"evenodd\" fill-opacity=\"1\" /><path clip-path=\"url(#clip390)\" d=\"M1588.86 825.034 Q1583.7 825.034 1581.71 826.215 Q1579.72 827.395 1579.72 830.242 Q1579.72 832.511 1581.2 833.853 Q1582.7 835.173 1585.27 835.173 Q1588.81 835.173 1590.94 832.673 Q1593.1 830.15 1593.1 825.983 L1593.1 825.034 L1588.86 825.034 M1597.35 823.275 L1597.35 838.066 L1593.1 838.066 L1593.1 834.131 Q1591.64 836.492 1589.46 837.627 Q1587.29 838.738 1584.14 838.738 Q1580.16 838.738 1577.79 836.515 Q1575.46 834.27 1575.46 830.52 Q1575.46 826.145 1578.37 823.923 Q1581.31 821.701 1587.12 821.701 L1593.1 821.701 L1593.1 821.284 Q1593.1 818.344 1591.15 816.747 Q1589.23 815.127 1585.73 815.127 Q1583.51 815.127 1581.41 815.659 Q1579.3 816.192 1577.36 817.256 L1577.36 813.321 Q1579.69 812.418 1581.89 811.979 Q1584.09 811.516 1586.17 811.516 Q1591.8 811.516 1594.58 814.432 Q1597.35 817.349 1597.35 823.275 Z\" fill=\"#000000\" fill-rule=\"evenodd\" fill-opacity=\"1\" /><path clip-path=\"url(#clip390)\" d=\"M1627.68 822.418 L1627.68 838.066 L1623.42 838.066 L1623.42 822.557 Q1623.42 818.877 1621.98 817.048 Q1620.55 815.219 1617.68 815.219 Q1614.23 815.219 1612.24 817.418 Q1610.25 819.617 1610.25 823.414 L1610.25 838.066 L1605.97 838.066 L1605.97 812.141 L1610.25 812.141 L1610.25 816.168 Q1611.78 813.83 1613.84 812.673 Q1615.92 811.516 1618.63 811.516 Q1623.1 811.516 1625.39 814.293 Q1627.68 817.048 1627.68 822.418 Z\" fill=\"#000000\" fill-rule=\"evenodd\" fill-opacity=\"1\" /><path clip-path=\"url(#clip390)\" d=\"M1655.87 845.937 L1655.87 849.247 L1631.24 849.247 L1631.24 845.937 L1655.87 845.937 Z\" fill=\"#000000\" fill-rule=\"evenodd\" fill-opacity=\"1\" /><path clip-path=\"url(#clip390)\" d=\"M1682.05 824.039 L1682.05 826.122 L1662.47 826.122 Q1662.75 830.52 1665.11 832.835 Q1667.49 835.127 1671.73 835.127 Q1674.18 835.127 1676.47 834.525 Q1678.79 833.923 1681.06 832.719 L1681.06 836.747 Q1678.77 837.719 1676.36 838.228 Q1673.95 838.738 1671.47 838.738 Q1665.27 838.738 1661.64 835.127 Q1658.03 831.516 1658.03 825.358 Q1658.03 818.992 1661.45 815.266 Q1664.9 811.516 1670.73 811.516 Q1675.97 811.516 1679 814.895 Q1682.05 818.252 1682.05 824.039 M1677.79 822.789 Q1677.75 819.293 1675.83 817.21 Q1673.93 815.127 1670.78 815.127 Q1667.22 815.127 1665.06 817.141 Q1662.93 819.154 1662.61 822.812 L1677.79 822.789 Z\" fill=\"#000000\" fill-rule=\"evenodd\" fill-opacity=\"1\" /><path clip-path=\"url(#clip390)\" d=\"M1704.07 816.122 Q1703.35 815.705 1702.49 815.52 Q1701.66 815.312 1700.64 815.312 Q1697.03 815.312 1695.09 817.673 Q1693.16 820.011 1693.16 824.409 L1693.16 838.066 L1688.88 838.066 L1688.88 812.141 L1693.16 812.141 L1693.16 816.168 Q1694.51 813.807 1696.66 812.673 Q1698.81 811.516 1701.89 811.516 Q1702.33 811.516 1702.86 811.585 Q1703.4 811.631 1704.04 811.747 L1704.07 816.122 Z\" fill=\"#000000\" fill-rule=\"evenodd\" fill-opacity=\"1\" /><path clip-path=\"url(#clip390)\" d=\"M1722.72 816.122 Q1722.01 815.705 1721.15 815.52 Q1720.32 815.312 1719.3 815.312 Q1715.69 815.312 1713.74 817.673 Q1711.82 820.011 1711.82 824.409 L1711.82 838.066 L1707.54 838.066 L1707.54 812.141 L1711.82 812.141 L1711.82 816.168 Q1713.16 813.807 1715.32 812.673 Q1717.47 811.516 1720.55 811.516 Q1720.99 811.516 1721.52 811.585 Q1722.05 811.631 1722.7 811.747 L1722.72 816.122 Z\" fill=\"#000000\" fill-rule=\"evenodd\" fill-opacity=\"1\" /><path clip-path=\"url(#clip390)\" d=\"M1746.89 845.937 L1746.89 849.247 L1722.26 849.247 L1722.26 845.937 L1746.89 845.937 Z\" fill=\"#000000\" fill-rule=\"evenodd\" fill-opacity=\"1\" /><path clip-path=\"url(#clip390)\" d=\"M1755.11 804.78 L1755.11 812.141 L1763.88 812.141 L1763.88 815.451 L1755.11 815.451 L1755.11 829.525 Q1755.11 832.696 1755.97 833.599 Q1756.84 834.502 1759.51 834.502 L1763.88 834.502 L1763.88 838.066 L1759.51 838.066 Q1754.58 838.066 1752.7 836.238 Q1750.83 834.386 1750.83 829.525 L1750.83 815.451 L1747.7 815.451 L1747.7 812.141 L1750.83 812.141 L1750.83 804.78 L1755.11 804.78 Z\" fill=\"#000000\" fill-rule=\"evenodd\" fill-opacity=\"1\" /><path clip-path=\"url(#clip390)\" d=\"M1784.51 816.122 Q1783.79 815.705 1782.93 815.52 Q1782.1 815.312 1781.08 815.312 Q1777.47 815.312 1775.53 817.673 Q1773.6 820.011 1773.6 824.409 L1773.6 838.066 L1769.32 838.066 L1769.32 812.141 L1773.6 812.141 L1773.6 816.168 Q1774.95 813.807 1777.1 812.673 Q1779.25 811.516 1782.33 811.516 Q1782.77 811.516 1783.3 811.585 Q1783.84 811.631 1784.48 811.747 L1784.51 816.122 Z\" fill=\"#000000\" fill-rule=\"evenodd\" fill-opacity=\"1\" /><path clip-path=\"url(#clip390)\" d=\"M1800.76 825.034 Q1795.59 825.034 1793.6 826.215 Q1791.61 827.395 1791.61 830.242 Q1791.61 832.511 1793.09 833.853 Q1794.6 835.173 1797.17 835.173 Q1800.71 835.173 1802.84 832.673 Q1804.99 830.15 1804.99 825.983 L1804.99 825.034 L1800.76 825.034 M1809.25 823.275 L1809.25 838.066 L1804.99 838.066 L1804.99 834.131 Q1803.53 836.492 1801.36 837.627 Q1799.18 838.738 1796.03 838.738 Q1792.05 838.738 1789.69 836.515 Q1787.35 834.27 1787.35 830.52 Q1787.35 826.145 1790.27 823.923 Q1793.21 821.701 1799.02 821.701 L1804.99 821.701 L1804.99 821.284 Q1804.99 818.344 1803.05 816.747 Q1801.13 815.127 1797.63 815.127 Q1795.41 815.127 1793.3 815.659 Q1791.2 816.192 1789.25 817.256 L1789.25 813.321 Q1791.59 812.418 1793.79 811.979 Q1795.99 811.516 1798.07 811.516 Q1803.7 811.516 1806.47 814.432 Q1809.25 817.349 1809.25 823.275 Z\" fill=\"#000000\" fill-rule=\"evenodd\" fill-opacity=\"1\" /><path clip-path=\"url(#clip390)\" d=\"M1818.03 812.141 L1822.28 812.141 L1822.28 838.066 L1818.03 838.066 L1818.03 812.141 M1818.03 802.048 L1822.28 802.048 L1822.28 807.442 L1818.03 807.442 L1818.03 802.048 Z\" fill=\"#000000\" fill-rule=\"evenodd\" fill-opacity=\"1\" /><path clip-path=\"url(#clip390)\" d=\"M1852.75 822.418 L1852.75 838.066 L1848.49 838.066 L1848.49 822.557 Q1848.49 818.877 1847.05 817.048 Q1845.62 815.219 1842.75 815.219 Q1839.3 815.219 1837.31 817.418 Q1835.32 819.617 1835.32 823.414 L1835.32 838.066 L1831.03 838.066 L1831.03 812.141 L1835.32 812.141 L1835.32 816.168 Q1836.84 813.83 1838.9 812.673 Q1840.99 811.516 1843.7 811.516 Q1848.16 811.516 1850.46 814.293 Q1852.75 817.048 1852.75 822.418 Z\" fill=\"#000000\" fill-rule=\"evenodd\" fill-opacity=\"1\" /></svg>\n"
      ]
     },
     "execution_count": 20,
     "metadata": {},
     "output_type": "execute_result"
    }
   ],
   "source": [
    "x = range(1, nr_of_epoch, step=1)\n",
    "\n",
    "p= Plots.plot(x,val_acc,label=\"val_acc\",legend=:bottomright, size=(500, 250))\n",
    "p= Plots.plot!(p,x,mean_err_test,label=\"mean_err_test\")\n",
    "p= Plots.plot!(p,x,mean_err_train,label=\"mean_err_train\")"
   ]
  }
 ],
 "metadata": {
  "kernelspec": {
   "display_name": "Julia 1.8.2",
   "language": "julia",
   "name": "julia-1.8"
  },
  "language_info": {
   "file_extension": ".jl",
   "mimetype": "application/julia",
   "name": "julia",
   "version": "1.8.2"
  }
 },
 "nbformat": 4,
 "nbformat_minor": 5
}
