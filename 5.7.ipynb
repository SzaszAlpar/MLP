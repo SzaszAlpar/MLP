{
 "cells": [
  {
   "cell_type": "markdown",
   "id": "3007afe8",
   "metadata": {},
   "source": [
    "# Predicting House Prices on Kaggle\n",
    ":label:`sec_kaggle_house`\n",
    "\n",
    "Now that we have introduced some basic tools\n",
    "for building and training deep networks\n",
    "and regularizing them with techniques including\n",
    "weight decay and dropout,\n",
    "we are ready to put all this knowledge into practice\n",
    "by participating in a Kaggle competition.\n",
    "The house price prediction competition\n",
    "is a great place to start.\n",
    "The data is fairly generic and do not exhibit exotic structure\n",
    "that might require specialized models (as audio or video might).\n",
    "This dataset, collected by :citet:`De-Cock.2011`,\n",
    "covers house prices in Ames, IA from the period of 2006--2010.\n",
    "It is considerably larger than the famous [Boston housing dataset](https://archive.ics.uci.edu/ml/machine-learning-databases/housing/housing.names) of Harrison and Rubinfeld (1978),\n",
    "boasting both more examples and more features.\n",
    "\n",
    "\n",
    "In this section, we will walk you through details of\n",
    "data preprocessing, model design, and hyperparameter selection.\n",
    "We hope that through a hands-on approach,\n",
    "you will gain some intuitions that will guide you\n",
    "in your career as a data scientist.\n"
   ]
  },
  {
   "cell_type": "code",
   "execution_count": 52,
   "id": "eb3ece24",
   "metadata": {},
   "outputs": [],
   "source": [
    "import Flux\n",
    "using CSV, DataFrames, Statistics, CategoricalArrays\n",
    "# import torch\n",
    "# from torch import nn\n",
    "# from d2l import torch as d2l"
   ]
  },
  {
   "cell_type": "markdown",
   "id": "05ff8f64",
   "metadata": {},
   "source": [
    "## Downloading Data\n",
    "\n",
    "Throughout the book, we will train and test models\n",
    "on various downloaded datasets.\n",
    "Here, we (**implement two utility functions**)\n",
    "to download files and extract zip or tar files.\n",
    "Again, we defer their implementations into :numref:`sec_utils`.\n"
   ]
  },
  {
   "cell_type": "code",
   "execution_count": 53,
   "id": "4e324c93",
   "metadata": {},
   "outputs": [
    {
     "data": {
      "text/plain": [
       "extract (generic function with 1 method)"
      ]
     },
     "execution_count": 53,
     "metadata": {},
     "output_type": "execute_result"
    }
   ],
   "source": [
    "function download(url, folder, sha1_hash=None)\n",
    "    \"\"\"Download a file to folder and return the local filepath.\"\"\"\n",
    "end\n",
    "\n",
    "function extract(filename, folder)\n",
    "    \"\"\"Extract a zip/tar file into folder.\"\"\"\n",
    "end"
   ]
  },
  {
   "cell_type": "markdown",
   "id": "9fb378f1",
   "metadata": {},
   "source": [
    "## Kaggle\n",
    "\n",
    "[Kaggle](https://www.kaggle.com) is a popular platform\n",
    "that hosts machine learning competitions.\n",
    "Each competition centers on a dataset and many\n",
    "are sponsored by stakeholders who offer prizes\n",
    "to the winning solutions.\n",
    "The platform helps users to interact\n",
    "via forums and shared code,\n",
    "fostering both collaboration and competition.\n",
    "While leaderboard chasing often spirals out of control,\n",
    "with researchers focusing myopically on preprocessing steps\n",
    "rather than asking fundamental questions,\n",
    "there is also tremendous value in the objectivity of a platform\n",
    "that facilitates direct quantitative comparisons\n",
    "among competing approaches as well as code sharing\n",
    "so that everyone can learn what did and did not work.\n",
    "If you want to participate in a Kaggle competition,\n",
    "you will first need to register for an account\n",
    "(see :numref:`fig_kaggle`).\n",
    "\n",
    "![The Kaggle website.](../img/kaggle.png)\n",
    ":width:`400px`\n",
    ":label:`fig_kaggle`\n",
    "\n",
    "On the house price prediction competition page, as illustrated\n",
    "in :numref:`fig_house_pricing`,\n",
    "you can find the dataset (under the \"Data\" tab),\n",
    "submit predictions, and see your ranking,\n",
    "The URL is right here:\n",
    "\n",
    "> https://www.kaggle.com/c/house-prices-advanced-regression-techniques\n",
    "\n",
    "![The house price prediction competition page.](../img/house-pricing.png)\n",
    ":width:`400px`\n",
    ":label:`fig_house_pricing`\n",
    "\n",
    "## Accessing and Reading the Dataset\n",
    "\n",
    "Note that the competition data is separated\n",
    "into training and test sets.\n",
    "Each record includes the property value of the house\n",
    "and attributes such as street type, year of construction,\n",
    "roof type, basement condition, etc.\n",
    "The features consist of various data types.\n",
    "For example, the year of construction\n",
    "is represented by an integer,\n",
    "the roof type by discrete categorical assignments,\n",
    "and other features by floating point numbers.\n",
    "And here is where reality complicates things:\n",
    "for some examples, some data is altogether missing\n",
    "with the missing value marked simply as \"na\".\n",
    "The price of each house is included\n",
    "for the training set only\n",
    "(it is a competition after all).\n",
    "We will want to partition the training set\n",
    "to create a validation set,\n",
    "but we only get to evaluate our models on the official test set\n",
    "after uploading predictions to Kaggle.\n",
    "The \"Data\" tab on the competition tab\n",
    "in :numref:`fig_house_pricing`\n",
    "has links to download the data.\n",
    "\n",
    "To get started, we will [**read in and process the data\n",
    "using `pandas`**], which we have introduced in :numref:`sec_pandas`.\n",
    "For convenience, we can download and cache\n",
    "the Kaggle housing dataset.\n",
    "If a file corresponding to this dataset already exists in the cache directory and its SHA-1 matches `sha1_hash`, our code will use the cached file to avoid clogging up your internet with redundant downloads.\n"
   ]
  },
  {
   "cell_type": "code",
   "execution_count": 54,
   "id": "803dcbe6",
   "metadata": {},
   "outputs": [],
   "source": [
    "using HTTP\n",
    "\n",
    "DATA_URL = \"http://d2l-data.s3-accelerate.amazonaws.com/\"\n",
    "train_filename = \"kaggle_house_pred_train.csv\"\n",
    "test_filename = \"kaggle_house_pred_test.csv\"\n",
    "\n",
    "raw_train = CSV.read(HTTP.get(DATA_URL * train_filename).body, DataFrame)\n",
    "raw_val = CSV.read(HTTP.get(DATA_URL * test_filename).body, DataFrame)\n",
    ";"
   ]
  },
  {
   "cell_type": "markdown",
   "id": "bd98d6bf",
   "metadata": {},
   "source": [
    "The training dataset includes 1460 examples,\n",
    "80 features, and 1 label, while the validation data\n",
    "contains 1459 examples and 80 features.\n"
   ]
  },
  {
   "cell_type": "code",
   "execution_count": 55,
   "id": "efd044a3",
   "metadata": {},
   "outputs": [
    {
     "name": "stdout",
     "output_type": "stream",
     "text": [
      "(1460, 81)"
     ]
    }
   ],
   "source": [
    "print(size(raw_train))"
   ]
  },
  {
   "cell_type": "code",
   "execution_count": 56,
   "id": "6e27eaf2",
   "metadata": {},
   "outputs": [
    {
     "name": "stdout",
     "output_type": "stream",
     "text": [
      "(1459, 80)"
     ]
    }
   ],
   "source": [
    "print(size(raw_val))"
   ]
  },
  {
   "cell_type": "markdown",
   "id": "6920f71e",
   "metadata": {},
   "source": [
    "## Data Preprocessing\n",
    "\n",
    "Let's [**take a look at the first four and last two features\n",
    "as well as the label (SalePrice)**] from the first four examples.\n"
   ]
  },
  {
   "cell_type": "code",
   "execution_count": 57,
   "id": "f9018763",
   "metadata": {},
   "outputs": [
    {
     "data": {
      "text/html": [
       "<div><div style = \"float: left;\"><span>4×6 DataFrame</span></div><div style = \"clear: both;\"></div></div><div class = \"data-frame\" style = \"overflow-x: scroll;\"><table class = \"data-frame\" style = \"margin-bottom: 6px;\"><thead><tr class = \"header\"><th class = \"rowNumber\" style = \"font-weight: bold; text-align: right;\">Row</th><th style = \"text-align: left;\">Id</th><th style = \"text-align: left;\">MSSubClass</th><th style = \"text-align: left;\">MSZoning</th><th style = \"text-align: left;\">LotFrontage</th><th style = \"text-align: left;\">SaleCondition</th><th style = \"text-align: left;\">SalePrice</th></tr><tr class = \"subheader headerLastRow\"><th class = \"rowNumber\" style = \"font-weight: bold; text-align: right;\"></th><th title = \"Int64\" style = \"text-align: left;\">Int64</th><th title = \"Int64\" style = \"text-align: left;\">Int64</th><th title = \"String7\" style = \"text-align: left;\">String7</th><th title = \"String3\" style = \"text-align: left;\">String3</th><th title = \"String7\" style = \"text-align: left;\">String7</th><th title = \"Int64\" style = \"text-align: left;\">Int64</th></tr></thead><tbody><tr><td class = \"rowNumber\" style = \"font-weight: bold; text-align: right;\">1</td><td style = \"text-align: right;\">1</td><td style = \"text-align: right;\">60</td><td style = \"text-align: left;\">RL</td><td style = \"text-align: left;\">65</td><td style = \"text-align: left;\">Normal</td><td style = \"text-align: right;\">208500</td></tr><tr><td class = \"rowNumber\" style = \"font-weight: bold; text-align: right;\">2</td><td style = \"text-align: right;\">2</td><td style = \"text-align: right;\">20</td><td style = \"text-align: left;\">RL</td><td style = \"text-align: left;\">80</td><td style = \"text-align: left;\">Normal</td><td style = \"text-align: right;\">181500</td></tr><tr><td class = \"rowNumber\" style = \"font-weight: bold; text-align: right;\">3</td><td style = \"text-align: right;\">3</td><td style = \"text-align: right;\">60</td><td style = \"text-align: left;\">RL</td><td style = \"text-align: left;\">68</td><td style = \"text-align: left;\">Normal</td><td style = \"text-align: right;\">223500</td></tr><tr><td class = \"rowNumber\" style = \"font-weight: bold; text-align: right;\">4</td><td style = \"text-align: right;\">4</td><td style = \"text-align: right;\">70</td><td style = \"text-align: left;\">RL</td><td style = \"text-align: left;\">60</td><td style = \"text-align: left;\">Abnorml</td><td style = \"text-align: right;\">140000</td></tr></tbody></table></div>"
      ],
      "text/latex": [
       "\\begin{tabular}{r|cccccc}\n",
       "\t& Id & MSSubClass & MSZoning & LotFrontage & SaleCondition & SalePrice\\\\\n",
       "\t\\hline\n",
       "\t& Int64 & Int64 & String7 & String3 & String7 & Int64\\\\\n",
       "\t\\hline\n",
       "\t1 & 1 & 60 & RL & 65 & Normal & 208500 \\\\\n",
       "\t2 & 2 & 20 & RL & 80 & Normal & 181500 \\\\\n",
       "\t3 & 3 & 60 & RL & 68 & Normal & 223500 \\\\\n",
       "\t4 & 4 & 70 & RL & 60 & Abnorml & 140000 \\\\\n",
       "\\end{tabular}\n"
      ],
      "text/plain": [
       "\u001b[1m4×6 DataFrame\u001b[0m\n",
       "\u001b[1m Row \u001b[0m│\u001b[1m Id    \u001b[0m\u001b[1m MSSubClass \u001b[0m\u001b[1m MSZoning \u001b[0m\u001b[1m LotFrontage \u001b[0m\u001b[1m SaleCondition \u001b[0m\u001b[1m SalePrice \u001b[0m\n",
       "     │\u001b[90m Int64 \u001b[0m\u001b[90m Int64      \u001b[0m\u001b[90m String7  \u001b[0m\u001b[90m String3     \u001b[0m\u001b[90m String7       \u001b[0m\u001b[90m Int64     \u001b[0m\n",
       "─────┼────────────────────────────────────────────────────────────────────\n",
       "   1 │     1          60  RL        65           Normal            208500\n",
       "   2 │     2          20  RL        80           Normal            181500\n",
       "   3 │     3          60  RL        68           Normal            223500\n",
       "   4 │     4          70  RL        60           Abnorml           140000"
      ]
     },
     "execution_count": 57,
     "metadata": {},
     "output_type": "execute_result"
    }
   ],
   "source": [
    "raw_train[[1, 2, 3, 4], [1, 2, 3, 4, end-1, end]]"
   ]
  },
  {
   "cell_type": "code",
   "execution_count": 58,
   "id": "822487ee",
   "metadata": {},
   "outputs": [
    {
     "data": {
      "text/html": [
       "<div><div style = \"float: left;\"><span>81×7 DataFrame</span></div><div style = \"float: right;\"><span style = \"font-style: italic;\">56 rows omitted</span></div><div style = \"clear: both;\"></div></div><div class = \"data-frame\" style = \"overflow-x: scroll;\"><table class = \"data-frame\" style = \"margin-bottom: 6px;\"><thead><tr class = \"header\"><th class = \"rowNumber\" style = \"font-weight: bold; text-align: right;\">Row</th><th style = \"text-align: left;\">variable</th><th style = \"text-align: left;\">mean</th><th style = \"text-align: left;\">min</th><th style = \"text-align: left;\">median</th><th style = \"text-align: left;\">max</th><th style = \"text-align: left;\">nmissing</th><th style = \"text-align: left;\">eltype</th></tr><tr class = \"subheader headerLastRow\"><th class = \"rowNumber\" style = \"font-weight: bold; text-align: right;\"></th><th title = \"Symbol\" style = \"text-align: left;\">Symbol</th><th title = \"Union{Nothing, Float64}\" style = \"text-align: left;\">Union…</th><th title = \"Any\" style = \"text-align: left;\">Any</th><th title = \"Union{Nothing, Float64}\" style = \"text-align: left;\">Union…</th><th title = \"Any\" style = \"text-align: left;\">Any</th><th title = \"Int64\" style = \"text-align: left;\">Int64</th><th title = \"DataType\" style = \"text-align: left;\">DataType</th></tr></thead><tbody><tr><td class = \"rowNumber\" style = \"font-weight: bold; text-align: right;\">1</td><td style = \"text-align: left;\">Id</td><td style = \"text-align: left;\">730.5</td><td style = \"text-align: left;\">1</td><td style = \"text-align: left;\">730.5</td><td style = \"text-align: left;\">1460</td><td style = \"text-align: right;\">0</td><td style = \"text-align: left;\">Int64</td></tr><tr><td class = \"rowNumber\" style = \"font-weight: bold; text-align: right;\">2</td><td style = \"text-align: left;\">MSSubClass</td><td style = \"text-align: left;\">56.8973</td><td style = \"text-align: left;\">20</td><td style = \"text-align: left;\">50.0</td><td style = \"text-align: left;\">190</td><td style = \"text-align: right;\">0</td><td style = \"text-align: left;\">Int64</td></tr><tr><td class = \"rowNumber\" style = \"font-weight: bold; text-align: right;\">3</td><td style = \"text-align: left;\">MSZoning</td><td style = \"font-style: italic; text-align: left;\"></td><td style = \"text-align: left;\">C (all)</td><td style = \"font-style: italic; text-align: left;\"></td><td style = \"text-align: left;\">RM</td><td style = \"text-align: right;\">0</td><td style = \"text-align: left;\">String7</td></tr><tr><td class = \"rowNumber\" style = \"font-weight: bold; text-align: right;\">4</td><td style = \"text-align: left;\">LotFrontage</td><td style = \"font-style: italic; text-align: left;\"></td><td style = \"text-align: left;\">100</td><td style = \"font-style: italic; text-align: left;\"></td><td style = \"text-align: left;\">NA</td><td style = \"text-align: right;\">0</td><td style = \"text-align: left;\">String3</td></tr><tr><td class = \"rowNumber\" style = \"font-weight: bold; text-align: right;\">5</td><td style = \"text-align: left;\">LotArea</td><td style = \"text-align: left;\">10516.8</td><td style = \"text-align: left;\">1300</td><td style = \"text-align: left;\">9478.5</td><td style = \"text-align: left;\">215245</td><td style = \"text-align: right;\">0</td><td style = \"text-align: left;\">Int64</td></tr><tr><td class = \"rowNumber\" style = \"font-weight: bold; text-align: right;\">6</td><td style = \"text-align: left;\">Street</td><td style = \"font-style: italic; text-align: left;\"></td><td style = \"text-align: left;\">Grvl</td><td style = \"font-style: italic; text-align: left;\"></td><td style = \"text-align: left;\">Pave</td><td style = \"text-align: right;\">0</td><td style = \"text-align: left;\">String7</td></tr><tr><td class = \"rowNumber\" style = \"font-weight: bold; text-align: right;\">7</td><td style = \"text-align: left;\">Alley</td><td style = \"font-style: italic; text-align: left;\"></td><td style = \"text-align: left;\">Grvl</td><td style = \"font-style: italic; text-align: left;\"></td><td style = \"text-align: left;\">Pave</td><td style = \"text-align: right;\">0</td><td style = \"text-align: left;\">String7</td></tr><tr><td class = \"rowNumber\" style = \"font-weight: bold; text-align: right;\">8</td><td style = \"text-align: left;\">LotShape</td><td style = \"font-style: italic; text-align: left;\"></td><td style = \"text-align: left;\">IR1</td><td style = \"font-style: italic; text-align: left;\"></td><td style = \"text-align: left;\">Reg</td><td style = \"text-align: right;\">0</td><td style = \"text-align: left;\">String3</td></tr><tr><td class = \"rowNumber\" style = \"font-weight: bold; text-align: right;\">9</td><td style = \"text-align: left;\">LandContour</td><td style = \"font-style: italic; text-align: left;\"></td><td style = \"text-align: left;\">Bnk</td><td style = \"font-style: italic; text-align: left;\"></td><td style = \"text-align: left;\">Lvl</td><td style = \"text-align: right;\">0</td><td style = \"text-align: left;\">String3</td></tr><tr><td class = \"rowNumber\" style = \"font-weight: bold; text-align: right;\">10</td><td style = \"text-align: left;\">Utilities</td><td style = \"font-style: italic; text-align: left;\"></td><td style = \"text-align: left;\">AllPub</td><td style = \"font-style: italic; text-align: left;\"></td><td style = \"text-align: left;\">NoSeWa</td><td style = \"text-align: right;\">0</td><td style = \"text-align: left;\">String7</td></tr><tr><td class = \"rowNumber\" style = \"font-weight: bold; text-align: right;\">11</td><td style = \"text-align: left;\">LotConfig</td><td style = \"font-style: italic; text-align: left;\"></td><td style = \"text-align: left;\">Corner</td><td style = \"font-style: italic; text-align: left;\"></td><td style = \"text-align: left;\">Inside</td><td style = \"text-align: right;\">0</td><td style = \"text-align: left;\">String7</td></tr><tr><td class = \"rowNumber\" style = \"font-weight: bold; text-align: right;\">12</td><td style = \"text-align: left;\">LandSlope</td><td style = \"font-style: italic; text-align: left;\"></td><td style = \"text-align: left;\">Gtl</td><td style = \"font-style: italic; text-align: left;\"></td><td style = \"text-align: left;\">Sev</td><td style = \"text-align: right;\">0</td><td style = \"text-align: left;\">String3</td></tr><tr><td class = \"rowNumber\" style = \"font-weight: bold; text-align: right;\">13</td><td style = \"text-align: left;\">Neighborhood</td><td style = \"font-style: italic; text-align: left;\"></td><td style = \"text-align: left;\">Blmngtn</td><td style = \"font-style: italic; text-align: left;\"></td><td style = \"text-align: left;\">Veenker</td><td style = \"text-align: right;\">0</td><td style = \"text-align: left;\">String7</td></tr><tr><td style = \"text-align: right;\">&vellip;</td><td style = \"text-align: right;\">&vellip;</td><td style = \"text-align: right;\">&vellip;</td><td style = \"text-align: right;\">&vellip;</td><td style = \"text-align: right;\">&vellip;</td><td style = \"text-align: right;\">&vellip;</td><td style = \"text-align: right;\">&vellip;</td><td style = \"text-align: right;\">&vellip;</td></tr><tr><td class = \"rowNumber\" style = \"font-weight: bold; text-align: right;\">70</td><td style = \"text-align: left;\">3SsnPorch</td><td style = \"font-style: italic; text-align: left;\">3.40959</td><td style = \"text-align: left;\">0</td><td style = \"font-style: italic; text-align: left;\">0.0</td><td style = \"text-align: left;\">508</td><td style = \"text-align: right;\">0</td><td style = \"text-align: left;\">Int64</td></tr><tr><td class = \"rowNumber\" style = \"font-weight: bold; text-align: right;\">71</td><td style = \"text-align: left;\">ScreenPorch</td><td style = \"font-style: italic; text-align: left;\">15.061</td><td style = \"text-align: left;\">0</td><td style = \"font-style: italic; text-align: left;\">0.0</td><td style = \"text-align: left;\">480</td><td style = \"text-align: right;\">0</td><td style = \"text-align: left;\">Int64</td></tr><tr><td class = \"rowNumber\" style = \"font-weight: bold; text-align: right;\">72</td><td style = \"text-align: left;\">PoolArea</td><td style = \"font-style: italic; text-align: left;\">2.7589</td><td style = \"text-align: left;\">0</td><td style = \"font-style: italic; text-align: left;\">0.0</td><td style = \"text-align: left;\">738</td><td style = \"text-align: right;\">0</td><td style = \"text-align: left;\">Int64</td></tr><tr><td class = \"rowNumber\" style = \"font-weight: bold; text-align: right;\">73</td><td style = \"text-align: left;\">PoolQC</td><td style = \"font-style: italic; text-align: left;\"></td><td style = \"text-align: left;\">Ex</td><td style = \"font-style: italic; text-align: left;\"></td><td style = \"text-align: left;\">NA</td><td style = \"text-align: right;\">0</td><td style = \"text-align: left;\">String3</td></tr><tr><td class = \"rowNumber\" style = \"font-weight: bold; text-align: right;\">74</td><td style = \"text-align: left;\">Fence</td><td style = \"text-align: left;\"></td><td style = \"text-align: left;\">GdPrv</td><td style = \"text-align: left;\"></td><td style = \"text-align: left;\">NA</td><td style = \"text-align: right;\">0</td><td style = \"text-align: left;\">String7</td></tr><tr><td class = \"rowNumber\" style = \"font-weight: bold; text-align: right;\">75</td><td style = \"text-align: left;\">MiscFeature</td><td style = \"text-align: left;\"></td><td style = \"text-align: left;\">Gar2</td><td style = \"text-align: left;\"></td><td style = \"text-align: left;\">TenC</td><td style = \"text-align: right;\">0</td><td style = \"text-align: left;\">String7</td></tr><tr><td class = \"rowNumber\" style = \"font-weight: bold; text-align: right;\">76</td><td style = \"text-align: left;\">MiscVal</td><td style = \"text-align: left;\">43.489</td><td style = \"text-align: left;\">0</td><td style = \"text-align: left;\">0.0</td><td style = \"text-align: left;\">15500</td><td style = \"text-align: right;\">0</td><td style = \"text-align: left;\">Int64</td></tr><tr><td class = \"rowNumber\" style = \"font-weight: bold; text-align: right;\">77</td><td style = \"text-align: left;\">MoSold</td><td style = \"text-align: left;\">6.32192</td><td style = \"text-align: left;\">1</td><td style = \"text-align: left;\">6.0</td><td style = \"text-align: left;\">12</td><td style = \"text-align: right;\">0</td><td style = \"text-align: left;\">Int64</td></tr><tr><td class = \"rowNumber\" style = \"font-weight: bold; text-align: right;\">78</td><td style = \"text-align: left;\">YrSold</td><td style = \"font-style: italic; text-align: left;\">2007.82</td><td style = \"text-align: left;\">2006</td><td style = \"font-style: italic; text-align: left;\">2008.0</td><td style = \"text-align: left;\">2010</td><td style = \"text-align: right;\">0</td><td style = \"text-align: left;\">Int64</td></tr><tr><td class = \"rowNumber\" style = \"font-weight: bold; text-align: right;\">79</td><td style = \"text-align: left;\">SaleType</td><td style = \"font-style: italic; text-align: left;\"></td><td style = \"text-align: left;\">COD</td><td style = \"font-style: italic; text-align: left;\"></td><td style = \"text-align: left;\">WD</td><td style = \"text-align: right;\">0</td><td style = \"text-align: left;\">String7</td></tr><tr><td class = \"rowNumber\" style = \"font-weight: bold; text-align: right;\">80</td><td style = \"text-align: left;\">SaleCondition</td><td style = \"font-style: italic; text-align: left;\"></td><td style = \"text-align: left;\">Abnorml</td><td style = \"font-style: italic; text-align: left;\"></td><td style = \"text-align: left;\">Partial</td><td style = \"text-align: right;\">0</td><td style = \"text-align: left;\">String7</td></tr><tr><td class = \"rowNumber\" style = \"font-weight: bold; text-align: right;\">81</td><td style = \"text-align: left;\">SalePrice</td><td style = \"font-style: italic; text-align: left;\">1.80921e5</td><td style = \"text-align: left;\">34900</td><td style = \"font-style: italic; text-align: left;\">163000.0</td><td style = \"text-align: left;\">755000</td><td style = \"text-align: right;\">0</td><td style = \"text-align: left;\">Int64</td></tr></tbody></table></div>"
      ],
      "text/latex": [
       "\\begin{tabular}{r|ccccccc}\n",
       "\t& variable & mean & min & median & max & nmissing & eltype\\\\\n",
       "\t\\hline\n",
       "\t& Symbol & Union… & Any & Union… & Any & Int64 & DataType\\\\\n",
       "\t\\hline\n",
       "\t1 & Id & 730.5 & 1 & 730.5 & 1460 & 0 & Int64 \\\\\n",
       "\t2 & MSSubClass & 56.8973 & 20 & 50.0 & 190 & 0 & Int64 \\\\\n",
       "\t3 & MSZoning &  & C (all) &  & RM & 0 & String7 \\\\\n",
       "\t4 & LotFrontage &  & 100 &  & NA & 0 & String3 \\\\\n",
       "\t5 & LotArea & 10516.8 & 1300 & 9478.5 & 215245 & 0 & Int64 \\\\\n",
       "\t6 & Street &  & Grvl &  & Pave & 0 & String7 \\\\\n",
       "\t7 & Alley &  & Grvl &  & Pave & 0 & String7 \\\\\n",
       "\t8 & LotShape &  & IR1 &  & Reg & 0 & String3 \\\\\n",
       "\t9 & LandContour &  & Bnk &  & Lvl & 0 & String3 \\\\\n",
       "\t10 & Utilities &  & AllPub &  & NoSeWa & 0 & String7 \\\\\n",
       "\t11 & LotConfig &  & Corner &  & Inside & 0 & String7 \\\\\n",
       "\t12 & LandSlope &  & Gtl &  & Sev & 0 & String3 \\\\\n",
       "\t13 & Neighborhood &  & Blmngtn &  & Veenker & 0 & String7 \\\\\n",
       "\t14 & Condition1 &  & Artery &  & RRNn & 0 & String7 \\\\\n",
       "\t15 & Condition2 &  & Artery &  & RRNn & 0 & String7 \\\\\n",
       "\t16 & BldgType &  & 1Fam &  & TwnhsE & 0 & String7 \\\\\n",
       "\t17 & HouseStyle &  & 1.5Fin &  & SLvl & 0 & String7 \\\\\n",
       "\t18 & OverallQual & 6.09932 & 1 & 6.0 & 10 & 0 & Int64 \\\\\n",
       "\t19 & OverallCond & 5.57534 & 1 & 5.0 & 9 & 0 & Int64 \\\\\n",
       "\t20 & YearBuilt & 1971.27 & 1872 & 1973.0 & 2010 & 0 & Int64 \\\\\n",
       "\t21 & YearRemodAdd & 1984.87 & 1950 & 1994.0 & 2010 & 0 & Int64 \\\\\n",
       "\t22 & RoofStyle &  & Flat &  & Shed & 0 & String7 \\\\\n",
       "\t23 & RoofMatl &  & ClyTile &  & WdShngl & 0 & String7 \\\\\n",
       "\t24 & Exterior1st &  & AsbShng &  & WdShing & 0 & String7 \\\\\n",
       "\t25 & Exterior2nd &  & AsbShng &  & Wd Shng & 0 & String7 \\\\\n",
       "\t26 & MasVnrType &  & BrkCmn &  & Stone & 0 & String7 \\\\\n",
       "\t27 & MasVnrArea &  & 0 &  & NA & 0 & String7 \\\\\n",
       "\t28 & ExterQual &  & Ex &  & TA & 0 & String3 \\\\\n",
       "\t29 & ExterCond &  & Ex &  & TA & 0 & String3 \\\\\n",
       "\t30 & Foundation &  & BrkTil &  & Wood & 0 & String7 \\\\\n",
       "\t$\\dots$ & $\\dots$ & $\\dots$ & $\\dots$ & $\\dots$ & $\\dots$ & $\\dots$ & $\\dots$ \\\\\n",
       "\\end{tabular}\n"
      ],
      "text/plain": [
       "\u001b[1m81×7 DataFrame\u001b[0m\n",
       "\u001b[1m Row \u001b[0m│\u001b[1m variable      \u001b[0m\u001b[1m mean      \u001b[0m\u001b[1m min     \u001b[0m\u001b[1m median   \u001b[0m\u001b[1m max     \u001b[0m\u001b[1m nmissing \u001b[0m\u001b[1m eltype \u001b[0m ⋯\n",
       "     │\u001b[90m Symbol        \u001b[0m\u001b[90m Union…    \u001b[0m\u001b[90m Any     \u001b[0m\u001b[90m Union…   \u001b[0m\u001b[90m Any     \u001b[0m\u001b[90m Int64    \u001b[0m\u001b[90m DataTyp\u001b[0m ⋯\n",
       "─────┼──────────────────────────────────────────────────────────────────────────\n",
       "   1 │ Id             730.5      1        730.5     1460            0  Int64   ⋯\n",
       "   2 │ MSSubClass     56.8973    20       50.0      190             0  Int64\n",
       "   3 │ MSZoning      \u001b[90m           \u001b[0m C (all) \u001b[90m          \u001b[0m RM              0  String7\n",
       "   4 │ LotFrontage   \u001b[90m           \u001b[0m 100     \u001b[90m          \u001b[0m NA              0  String3\n",
       "   5 │ LotArea        10516.8    1300     9478.5    215245          0  Int64   ⋯\n",
       "   6 │ Street        \u001b[90m           \u001b[0m Grvl    \u001b[90m          \u001b[0m Pave            0  String7\n",
       "   7 │ Alley         \u001b[90m           \u001b[0m Grvl    \u001b[90m          \u001b[0m Pave            0  String7\n",
       "   8 │ LotShape      \u001b[90m           \u001b[0m IR1     \u001b[90m          \u001b[0m Reg             0  String3\n",
       "   9 │ LandContour   \u001b[90m           \u001b[0m Bnk     \u001b[90m          \u001b[0m Lvl             0  String3 ⋯\n",
       "  10 │ Utilities     \u001b[90m           \u001b[0m AllPub  \u001b[90m          \u001b[0m NoSeWa          0  String7\n",
       "  11 │ LotConfig     \u001b[90m           \u001b[0m Corner  \u001b[90m          \u001b[0m Inside          0  String7\n",
       "  ⋮  │       ⋮            ⋮         ⋮        ⋮         ⋮        ⋮         ⋮    ⋱\n",
       "  72 │ PoolArea       2.7589     0        0.0       738             0  Int64\n",
       "  73 │ PoolQC        \u001b[90m           \u001b[0m Ex      \u001b[90m          \u001b[0m NA              0  String3 ⋯\n",
       "  74 │ Fence         \u001b[90m           \u001b[0m GdPrv   \u001b[90m          \u001b[0m NA              0  String7\n",
       "  75 │ MiscFeature   \u001b[90m           \u001b[0m Gar2    \u001b[90m          \u001b[0m TenC            0  String7\n",
       "  76 │ MiscVal        43.489     0        0.0       15500           0  Int64\n",
       "  77 │ MoSold         6.32192    1        6.0       12              0  Int64   ⋯\n",
       "  78 │ YrSold         2007.82    2006     2008.0    2010            0  Int64\n",
       "  79 │ SaleType      \u001b[90m           \u001b[0m COD     \u001b[90m          \u001b[0m WD              0  String7\n",
       "  80 │ SaleCondition \u001b[90m           \u001b[0m Abnorml \u001b[90m          \u001b[0m Partial         0  String7\n",
       "  81 │ SalePrice      1.80921e5  34900    163000.0  755000          0  Int64   ⋯\n",
       "\u001b[36m                                                    1 column and 60 rows omitted\u001b[0m"
      ]
     },
     "execution_count": 58,
     "metadata": {},
     "output_type": "execute_result"
    }
   ],
   "source": [
    "describe(raw_train)"
   ]
  },
  {
   "cell_type": "markdown",
   "id": "e3360e95",
   "metadata": {},
   "source": [
    "We can see that in each example, the first feature is the ID.\n",
    "This helps the model identify each training example.\n",
    "While this is convenient, it does not carry\n",
    "any information for prediction purposes.\n",
    "Hence, we will remove it from the dataset\n",
    "before feeding the data into the model.\n",
    "Besides, given a wide variety of data types,\n",
    "we will need to preprocess the data before we can start modeling.\n",
    "\n",
    "\n",
    "Let's start with the numerical features.\n",
    "First, we apply a heuristic,\n",
    "[**replacing all missing values\n",
    "by the corresponding feature's mean.**]\n",
    "Then, to put all features on a common scale,\n",
    "we (***standardize* the data by\n",
    "rescaling features to zero mean and unit variance**):\n",
    "\n",
    "$$x \\leftarrow \\frac{x - \\mu}{\\sigma},$$\n",
    "\n",
    "where $\\mu$ and $\\sigma$ denote mean and standard deviation, respectively.\n",
    "To verify that this indeed transforms\n",
    "our feature (variable) such that it has zero mean and unit variance,\n",
    "note that $E[\\frac{x-\\mu}{\\sigma}] = \\frac{\\mu - \\mu}{\\sigma} = 0$\n",
    "and that $E[(x-\\mu)^2] = (\\sigma^2 + \\mu^2) - 2\\mu^2+\\mu^2 = \\sigma^2$.\n",
    "Intuitively, we standardize the data\n",
    "for two reasons.\n",
    "First, it proves convenient for optimization.\n",
    "Second, because we do not know *a priori*\n",
    "which features will be relevant,\n",
    "we do not want to penalize coefficients\n",
    "assigned to one feature more than on any other.\n",
    "\n",
    "[**Next we deal with discrete values.**]\n",
    "This includes features such as \"MSZoning\".\n",
    "(**We replace them by a one-hot encoding**)\n",
    "in the same way that we previously transformed\n",
    "multiclass labels into vectors (see :numref:`subsec_classification-problem`).\n",
    "For instance, \"MSZoning\" assumes the values \"RL\" and \"RM\".\n",
    "Dropping the \"MSZoning\" feature,\n",
    "two new indicator features\n",
    "\"MSZoning_RL\" and \"MSZoning_RM\" are created with values being either 0 or 1.\n",
    "According to one-hot encoding,\n",
    "if the original value of \"MSZoning\" is \"RL\",\n",
    "then \"MSZoning_RL\" is 1 and \"MSZoning_RM\" is 0.\n",
    "The `pandas` package does this automatically for us.\n"
   ]
  },
  {
   "cell_type": "code",
   "execution_count": 59,
   "id": "66da71f5",
   "metadata": {},
   "outputs": [
    {
     "data": {
      "text/plain": [
       "find_categorical_columns (generic function with 1 method)"
      ]
     },
     "execution_count": 59,
     "metadata": {},
     "output_type": "execute_result"
    }
   ],
   "source": [
    "function find_categorical_columns(df::DataFrame)\n",
    "    cat_cols = String[]\n",
    "    for col in names(df)\n",
    "        if !(eltype(features[!, col]) === Int64 || eltype(features[!, col]) === Float64)\n",
    "            push!(cat_cols, col)\n",
    "        end\n",
    "    end\n",
    "    return cat_cols\n",
    "end"
   ]
  },
  {
   "cell_type": "code",
   "execution_count": 60,
   "id": "11b41e68",
   "metadata": {},
   "outputs": [
    {
     "data": {
      "text/plain": [
       "get_onehot_encoding (generic function with 1 method)"
      ]
     },
     "execution_count": 60,
     "metadata": {},
     "output_type": "execute_result"
    }
   ],
   "source": [
    "# No onehot encoding when using Linear Regression!!!\n",
    "\n",
    "function get_onehot_encoding(df::DataFrame, col::String)\n",
    "    categories = unique(df[!, col])\n",
    "    df_new = df[:, []]\n",
    "    for cat in categories\n",
    "        col_name = col * \"_\" * string(cat)\n",
    "        df_new[!, col_name] = ifelse.(df[!, col] .== cat, 1, 0)\n",
    "    end\n",
    "    return df_new\n",
    "end"
   ]
  },
  {
   "cell_type": "code",
   "execution_count": 65,
   "id": "398755fe",
   "metadata": {},
   "outputs": [
    {
     "name": "stdout",
     "output_type": "stream",
     "text": [
      "size(raw_train_preprocess) = (1460, 79)\n",
      "size(raw_test_preprocess) = (1459, 79)\n",
      "size(features) = (2919, 79)\n",
      "size(numeric_features) = (36,)\n"
     ]
    }
   ],
   "source": [
    "# Preprocess\n",
    "\n",
    "# using Flux: onehotbatch\n",
    "\n",
    "# Remove the ID and label columns\n",
    "raw_train_preprocess = select(raw_train, Not(:Id))\n",
    "raw_train_preprocess = select(raw_train_preprocess, Not(:SalePrice))\n",
    "@show size(raw_train_preprocess)\n",
    "    \n",
    "raw_test_preprocess = select(raw_val, Not(:Id))\n",
    "@show size(raw_test_preprocess)\n",
    "            \n",
    "features = vcat(raw_train_preprocess, raw_test_preprocess)\n",
    "@show size(features)\n",
    "    \n",
    "# Type conversion -- the dataframe is python and julia gets different column types\n",
    "\n",
    "replace!(features[!,:LotFrontage], \"NA\" => \"NaN\")\n",
    "features[!,:LotFrontage] = parse.(Float64, features[!,:LotFrontage])\n",
    "\n",
    "replace!(features[!,:MasVnrArea], \"NA\" => \"NaN\")\n",
    "features[!, :MasVnrArea] = parse.(Float64, features[!, :MasVnrArea])\n",
    "\n",
    "replace!(features[!,:GarageYrBlt], \"NA\" => \"NaN\")\n",
    "features[!, :GarageYrBlt] = parse.(Float64, features[!, :GarageYrBlt])\n",
    "\n",
    "replace!(features[!,:BsmtFinSF1], \"NA\" => \"NaN\")\n",
    "features[!, :BsmtFinSF1] = parse.(Float64, string.(features[!, :BsmtFinSF1]))\n",
    "\n",
    "replace!(features[!,:BsmtFinSF2], \"NA\" => \"NaN\")\n",
    "features[!, :BsmtFinSF2] = parse.(Float64, string.(features[!, :BsmtFinSF2]))\n",
    "\n",
    "replace!(features[!,:BsmtUnfSF], \"NA\" => \"NaN\")\n",
    "features[!, :BsmtUnfSF] = parse.(Float64, string.(features[!, :BsmtUnfSF]))\n",
    "\n",
    "replace!(features[!,:TotalBsmtSF], \"NA\" => \"NaN\")\n",
    "features[!, :TotalBsmtSF] = parse.(Float64, string.(features[!, :TotalBsmtSF]))\n",
    "\n",
    "replace!(features[!,:BsmtFullBath], \"NA\" => \"NaN\")\n",
    "features[!, :BsmtFullBath] = parse.(Float64, string.(features[!, :BsmtFullBath]))\n",
    "\n",
    "replace!(features[!,:BsmtHalfBath], \"NA\" => \"NaN\")\n",
    "features[!, :BsmtHalfBath] = parse.(Float64, string.(features[!, :BsmtHalfBath]))\n",
    "\n",
    "replace!(features[!,:GarageCars], \"NA\" => \"NaN\")\n",
    "features[!, :GarageCars] = parse.(Float64, string.(features[!, :GarageCars]))\n",
    "\n",
    "replace!(features[!,:GarageArea], \"NA\" => \"NaN\")\n",
    "features[!, :GarageArea] = parse.(Float64, string.(features[!, :GarageArea]))\n",
    "\n",
    "# Standardize numerical columns\n",
    "numeric_features = names(features[!, [i for i in names(features) if eltype(features[!, i]) === Float64 || eltype(features[!, i]) === Int64]])\n",
    "@show size(numeric_features)\n",
    "\n",
    "features = transform!(features, numeric_features .=> (x -> (x .- mean(x)) ./ std(x)) .=> numeric_features)\n",
    "\n",
    "# Replace NAN numerical features by 0\n",
    "for feature in numeric_features\n",
    "    features[!, feature] = replace(features[!, feature], NaN => 0)\n",
    "end\n",
    "\n",
    "# Not needed -> will use LinearRegression\n",
    "# # Replace discrete features by one-hot encoding\n",
    "# cat_cols = find_categorical_columns(features)\n",
    "\n",
    "# for col in cat_cols\n",
    "#     features = hcat(features, get_onehot_encoding(features, col))\n",
    "#     features = select!(features, Not(col))\n",
    "# end\n",
    "\n",
    "# @show size(features)\n",
    "\n",
    "# Save preprocessed features\n",
    "train = features[1:size(raw_train, 1), :]\n",
    "train[!, :SalePrice] = raw_train[!, :SalePrice]\n",
    "val = features[size(raw_train, 1)+1:end, :]\n",
    ";"
   ]
  },
  {
   "cell_type": "code",
   "execution_count": 62,
   "id": "23225c47",
   "metadata": {},
   "outputs": [
    {
     "data": {
      "text/plain": [
       "(1460, 80)"
      ]
     },
     "execution_count": 62,
     "metadata": {},
     "output_type": "execute_result"
    }
   ],
   "source": [
    "size(train) # should be 331 (some categorical columns are missing -> investigate)"
   ]
  },
  {
   "cell_type": "markdown",
   "id": "718b48bc",
   "metadata": {},
   "source": [
    "You can see that this conversion increases\n",
    "the number of features from 79 to 331 (excluding ID and label columns).\n"
   ]
  },
  {
   "cell_type": "markdown",
   "id": "4eb06822",
   "metadata": {},
   "source": [
    "## Error Measure\n",
    "\n",
    "To get started we will train a linear model with squared loss. Not surprisingly, our linear model will not lead to a competition-winning submission but it provides a sanity check to see whether there is meaningful information in the data. If we cannot do better than random guessing here, then there might be a good chance that we have a data processing bug. And if things work, the linear model will serve as a baseline giving us some intuition about how close the simple model gets to the best reported models, giving us a sense of how much gain we should expect from fancier models.\n",
    "\n",
    "With house prices, as with stock prices,\n",
    "we care about relative quantities\n",
    "more than absolute quantities.\n",
    "Thus [**we tend to care more about\n",
    "the relative error $\\frac{y - \\hat{y}}{y}$**]\n",
    "than about the absolute error $y - \\hat{y}$.\n",
    "For instance, if our prediction is off by USD 100,000\n",
    "when estimating the price of a house in Rural Ohio,\n",
    "where the value of a typical house is 125,000 USD,\n",
    "then we are probably doing a horrible job.\n",
    "On the other hand, if we err by this amount\n",
    "in Los Altos Hills, California,\n",
    "this might represent a stunningly accurate prediction\n",
    "(there, the median house price exceeds 4 million USD).\n",
    "\n",
    "(**One way to address this problem is to\n",
    "measure the discrepancy in the logarithm of the price estimates.**)\n",
    "In fact, this is also the official error measure\n",
    "used by the competition to evaluate the quality of submissions.\n",
    "After all, a small value $\\delta$ for $|\\log y - \\log \\hat{y}| \\leq \\delta$\n",
    "translates into $e^{-\\delta} \\leq \\frac{\\hat{y}}{y} \\leq e^\\delta$.\n",
    "This leads to the following root-mean-squared-error between the logarithm of the predicted price and the logarithm of the label price:\n",
    "\n",
    "$$\\sqrt{\\frac{1}{n}\\sum_{i=1}^n\\left(\\log y_i -\\log \\hat{y}_i\\right)^2}.$$\n"
   ]
  },
  {
   "cell_type": "markdown",
   "id": "834d3df1",
   "metadata": {},
   "source": [
    "### Notes:\n",
    "\n",
    "- TensorLoader in d2l:\n",
    "```\n",
    "@d2l.add_to_class(d2l.DataModule)  #@save\n",
    "def get_tensorloader(self, tensors, train, indices=slice(0, None)):\n",
    "    tensors = tuple(a[indices] for a in tensors)\n",
    "    dataset = torch.utils.data.TensorDataset(*tensors)\n",
    "    return torch.utils.data.DataLoader(dataset, self.batch_size,\n",
    "                                       shuffle=train)\n",
    "```\n",
    "\n",
    "- DataLoader in d2l:\n",
    "```\n",
    "@d2l.add_to_class(SyntheticRegressionData)  #@save\n",
    "def get_dataloader(self, train):\n",
    "    i = slice(0, self.num_train) if train else slice(self.num_train, None)\n",
    "    return self.get_tensorloader((self.X, self.y), train, i)\n",
    "```"
   ]
  },
  {
   "cell_type": "code",
   "execution_count": 78,
   "id": "e0bb83a9",
   "metadata": {},
   "outputs": [
    {
     "data": {
      "text/plain": [
       "get_dataloader (generic function with 1 method)"
      ]
     },
     "execution_count": 78,
     "metadata": {},
     "output_type": "execute_result"
    }
   ],
   "source": [
    "function get_dataloader(data, batch_size)\n",
    "    label = \"SalePrice\"\n",
    "\n",
    "    # Define a function to convert a DataFrame to a Float32 tensor\n",
    "    get_tensor(x::DataFrame) = Float64.(Matrix(x))\n",
    "\n",
    "    # Define the input and output tensors\n",
    "    X = get_tensor(data[:, Not(label)])  # all columns except the label\n",
    "    Y = log.(data[:, label])    # logarithm of the label column\n",
    "    \n",
    "    Y = reshape(Y, :, 1)\n",
    "    \n",
    "    @show size(X)\n",
    "    @show size(Y)\n",
    "\n",
    "    # Create a DataLoader object for the tensors\n",
    "    return Flux.Data.DataLoader((X, Y), batchsize=batch_size, shuffle=true)\n",
    "end"
   ]
  },
  {
   "cell_type": "markdown",
   "id": "0372927d",
   "metadata": {},
   "source": [
    "### Note: \n",
    "\n",
    "- question about DataLoader: why doesn't it work with X & Y? [link](https://fluxml.ai/Flux.jl/dev/data/mlutils/)"
   ]
  },
  {
   "cell_type": "code",
   "execution_count": 79,
   "id": "55ef4fce",
   "metadata": {
    "scrolled": true
   },
   "outputs": [
    {
     "name": "stdout",
     "output_type": "stream",
     "text": [
      "size(X) = (1460, 311)\n",
      "size(Y) = (1460, 1)\n"
     ]
    },
    {
     "ename": "DimensionMismatch",
     "evalue": "DimensionMismatch: All data containers must have the same number of observations.",
     "output_type": "error",
     "traceback": [
      "DimensionMismatch: All data containers must have the same number of observations.",
      "",
      "Stacktrace:",
      "  [1] _check_numobs_error()",
      "    @ MLUtils C:\\Users\\Peter.Katalin\\.julia\\packages\\MLUtils\\R44Zf\\src\\observation.jl:179",
      "  [2] _check_numobs",
      "    @ C:\\Users\\Peter.Katalin\\.julia\\packages\\MLUtils\\R44Zf\\src\\observation.jl:188 [inlined]",
      "  [3] numobs",
      "    @ C:\\Users\\Peter.Katalin\\.julia\\packages\\MLUtils\\R44Zf\\src\\observation.jl:193 [inlined]",
      "  [4] ObsView(data::Tuple{Matrix{Float64}, Matrix{Float64}})",
      "    @ MLUtils C:\\Users\\Peter.Katalin\\.julia\\packages\\MLUtils\\R44Zf\\src\\obsview.jl:145",
      "  [5] length",
      "    @ C:\\Users\\Peter.Katalin\\.julia\\packages\\MLUtils\\R44Zf\\src\\eachobs.jl:190 [inlined]",
      "  [6] show(io::IOContext{IOBuffer}, m::MIME{Symbol(\"text/plain\")}, e::DataLoader{Tuple{Matrix{Float64}, Matrix{Float64}}, Random._GLOBAL_RNG, Val{nothing}})",
      "    @ MLUtils C:\\Users\\Peter.Katalin\\.julia\\packages\\MLUtils\\R44Zf\\src\\eachobs.jl:277",
      "  [7] limitstringmime(mime::MIME{Symbol(\"text/plain\")}, x::DataLoader{Tuple{Matrix{Float64}, Matrix{Float64}}, Random._GLOBAL_RNG, Val{nothing}})",
      "    @ IJulia C:\\Users\\Peter.Katalin\\.julia\\packages\\IJulia\\AQu2H\\src\\inline.jl:43",
      "  [8] display_mimestring",
      "    @ C:\\Users\\Peter.Katalin\\.julia\\packages\\IJulia\\AQu2H\\src\\display.jl:71 [inlined]",
      "  [9] display_dict(x::DataLoader{Tuple{Matrix{Float64}, Matrix{Float64}}, Random._GLOBAL_RNG, Val{nothing}})",
      "    @ IJulia C:\\Users\\Peter.Katalin\\.julia\\packages\\IJulia\\AQu2H\\src\\display.jl:102",
      " [10] #invokelatest#2",
      "    @ .\\essentials.jl:729 [inlined]",
      " [11] invokelatest",
      "    @ .\\essentials.jl:726 [inlined]",
      " [12] execute_request(socket::ZMQ.Socket, msg::IJulia.Msg)",
      "    @ IJulia C:\\Users\\Peter.Katalin\\.julia\\packages\\IJulia\\AQu2H\\src\\execute_request.jl:112",
      " [13] #invokelatest#2",
      "    @ .\\essentials.jl:729 [inlined]",
      " [14] invokelatest",
      "    @ .\\essentials.jl:726 [inlined]",
      " [15] eventloop(socket::ZMQ.Socket)",
      "    @ IJulia C:\\Users\\Peter.Katalin\\.julia\\packages\\IJulia\\AQu2H\\src\\eventloop.jl:8",
      " [16] (::IJulia.var\"#15#18\")()",
      "    @ IJulia .\\task.jl:484"
     ]
    }
   ],
   "source": [
    "get_dataloader(train, 6)"
   ]
  },
  {
   "cell_type": "markdown",
   "id": "cbcff303",
   "metadata": {},
   "source": [
    "## $K$-Fold Cross-Validation\n",
    "\n",
    "You might recall that we introduced [**cross-validation**]\n",
    "in :numref:`subsec_generalization-model-selection`, where we discussed how to deal\n",
    "with model selection.\n",
    "We will put this to good use to select the model design\n",
    "and to adjust the hyperparameters.\n",
    "We first need a function that returns\n",
    "the $i^\\mathrm{th}$ fold of the data\n",
    "in a $K$-fold cross-validation procedure.\n",
    "It proceeds by slicing out the $i^\\mathrm{th}$ segment\n",
    "as validation data and returning the rest as training data.\n",
    "Note that this is not the most efficient way of handling data\n",
    "and we would definitely do something much smarter\n",
    "if our dataset was considerably larger.\n",
    "But this added complexity might obfuscate our code unnecessarily\n",
    "so we can safely omit it here owing to the simplicity of our problem.\n"
   ]
  },
  {
   "cell_type": "markdown",
   "id": "8b265ede",
   "metadata": {},
   "source": [
    "### Notes:\n",
    "\n",
    "- Options in Julia for K-Fold Cross-Validation:\n",
    "\n",
    "    - ScikitLearn.CrossValidation: cross_val_score: [see here](https://docs.juliahub.com/ScikitLearn/tbUuI/0.6.2/man/cross_validation/)\n",
    "    - MLDataUtils\n"
   ]
  },
  {
   "cell_type": "code",
   "execution_count": 14,
   "id": "c3578973",
   "metadata": {},
   "outputs": [],
   "source": [
    "# manual implementation -> had some issues, using built-in k-fold instead\n",
    "\n",
    "# function k_fold_data(train, k)\n",
    "#     rets = []\n",
    "#     fold_size = size(train)[1] ÷ k \n",
    "#     @show fold_size\n",
    "#     # floor division operator -> \"It is used to perform integer division and returns the largest possible integer \n",
    "#     # result that is less than or equal to the quotient of the division.\"\n",
    "    \n",
    "#     rets_train = []\n",
    "#     rets_val = []\n",
    "    \n",
    "#     for j in range(0, k - 1)\n",
    "#         idx = range(j * fold_size + 1, (j+1) * fold_size + 1)\n",
    "#         @show idx\n",
    "#         @show typeof(train)\n",
    "        \n",
    "#         @show size(rets_train)\n",
    "#         vcat(rets_train, select(train, Not(idx)))\n",
    "#         @show size(rets_train)\n",
    "#         vcat(rets_val, train[!, idx])\n",
    "#         @show size(rets_val)\n",
    "#     end\n",
    "#     @show rets_train\n",
    "#     @show rets_val\n",
    "# end"
   ]
  },
  {
   "cell_type": "code",
   "execution_count": 15,
   "id": "97b39d1c",
   "metadata": {},
   "outputs": [
    {
     "data": {
      "text/plain": [
       "Base.Generator{Base.Iterators.Zip{Tuple{Vector{Vector{Int64}}, Vector{UnitRange{Int64}}}}, MLUtils.var\"#77#78\"{DataFrame}}(MLUtils.var\"#77#78\"{DataFrame}(\u001b[1m1460×312 DataFrame\u001b[0m\n",
       "\u001b[1m  Row \u001b[0m│\u001b[1m MSSubClass \u001b[0m\u001b[1m LotFrontage \u001b[0m\u001b[1m LotArea    \u001b[0m\u001b[1m OverallQual \u001b[0m\u001b[1m OverallCond \u001b[0m\u001b[1m YearBui\u001b[0m ⋯\n",
       "      │\u001b[90m Float64    \u001b[0m\u001b[90m Float64     \u001b[0m\u001b[90m Float64    \u001b[0m\u001b[90m Float64     \u001b[0m\u001b[90m Float64     \u001b[0m\u001b[90m Float64\u001b[0m ⋯\n",
       "──────┼─────────────────────────────────────────────────────────────────────────\n",
       "    1 │  0.0673199          0.0  -0.217841     0.646073     -0.507197   1.0460 ⋯\n",
       "    2 │ -0.873466           0.0  -0.0720317   -0.0631737     2.1879     0.1547\n",
       "    3 │  0.0673199          0.0   0.137173     0.646073     -0.507197   0.9800\n",
       "    4 │  0.302516           0.0  -0.0783713    0.646073     -0.507197  -1.8590\n",
       "    5 │  0.0673199          0.0   0.518814     1.35532      -0.507197   0.9470 ⋯\n",
       "    6 │ -0.167877           0.0   0.50043     -0.77242      -0.507197   0.7159\n",
       "    7 │ -0.873466           0.0  -0.0106649    1.35532      -0.507197   1.0790\n",
       "    8 │  0.0673199          0.0   0.0271188    0.646073      0.39117    0.0556\n",
       "    9 │ -0.167877           0.0  -0.513264     0.646073     -0.507197  -1.3308 ⋯\n",
       "   10 │  3.12488            0.0  -0.348436    -0.77242       0.39117   -1.0667\n",
       "   11 │ -0.873466           0.0   0.130834    -0.77242      -0.507197  -0.2084\n",
       "  ⋮   │     ⋮            ⋮           ⋮            ⋮            ⋮           ⋮   ⋱\n",
       " 1451 │  0.77291            0.0  -0.148106    -0.77242      -0.507197   0.0887\n",
       " 1452 │ -0.873466           0.0  -0.114887     1.35532      -0.507197   1.2111 ⋯\n",
       " 1453 │  2.88968            0.0  -0.823268    -0.77242      -0.507197   1.1121\n",
       " 1454 │ -0.873466           0.0   0.893735    -0.77242      -0.507197   1.1451\n",
       " 1455 │ -0.873466           0.0  -0.338293     0.646073     -0.507197   1.0790\n",
       " 1456 │  0.0673199          0.0  -0.285421    -0.0631737    -0.507197   0.9140 ⋯\n",
       " 1457 │ -0.873466           0.0   0.381246    -0.0631737     0.39117    0.2207\n",
       " 1458 │  0.302516           0.0  -0.142781     0.646073      3.08627   -1.0007\n",
       " 1459 │ -0.873466           0.0  -0.0571972   -0.77242       0.39117   -0.7035\n",
       " 1460 │ -0.873466           0.0  -0.0293032   -0.77242       0.39117   -0.2084 ⋯\n",
       "\u001b[36m                                               307 columns and 1439 rows omitted\u001b[0m), zip([[293, 294, 295, 296, 297, 298, 299, 300, 301, 302  …  1451, 1452, 1453, 1454, 1455, 1456, 1457, 1458, 1459, 1460], [1, 2, 3, 4, 5, 6, 7, 8, 9, 10  …  1451, 1452, 1453, 1454, 1455, 1456, 1457, 1458, 1459, 1460], [1, 2, 3, 4, 5, 6, 7, 8, 9, 10  …  1451, 1452, 1453, 1454, 1455, 1456, 1457, 1458, 1459, 1460], [1, 2, 3, 4, 5, 6, 7, 8, 9, 10  …  1451, 1452, 1453, 1454, 1455, 1456, 1457, 1458, 1459, 1460], [1, 2, 3, 4, 5, 6, 7, 8, 9, 10  …  1159, 1160, 1161, 1162, 1163, 1164, 1165, 1166, 1167, 1168]], UnitRange{Int64}[1:292, 293:584, 585:876, 877:1168, 1169:1460]))"
      ]
     },
     "execution_count": 15,
     "metadata": {},
     "output_type": "execute_result"
    }
   ],
   "source": [
    "using MLUtils\n",
    "\n",
    "train_idx, val_idx = kfolds(train, 5)"
   ]
  },
  {
   "cell_type": "markdown",
   "id": "73f05b27",
   "metadata": {},
   "source": [
    "### Notes:\n",
    "\n",
    "- LinearRegression in d2l:\n",
    "\n",
    "```\n",
    "class LinearRegression(d2l.Module):  #@save\n",
    "    \"\"\"The linear regression model implemented with high-level APIs.\"\"\"\n",
    "    def __init__(self, lr):\n",
    "        super().__init__()\n",
    "        self.save_hyperparameters()\n",
    "        initializer = tf.initializers.RandomNormal(stddev=0.01)\n",
    "        self.net = tf.keras.layers.Dense(1, kernel_initializer=initializer)\n",
    "```\n",
    "\n",
    "- Loss:\n",
    "```\n",
    "@d2l.add_to_class(LinearRegression)  #@save\n",
    "def loss(self, y_hat, y):\n",
    "    fn = tf.keras.losses.MeanSquaredError()\n",
    "    return fn(y, y_hat)\n",
    "```\n",
    "\n",
    "- Optimizer:\n",
    "```\n",
    "@d2l.add_to_class(LinearRegression)  #@save\n",
    "def configure_optimizers(self):\n",
    "    return tf.keras.optimizers.SGD(self.lr)\n",
    "```\n",
    "\n",
    "- SGD in [documentation](https://fluxml.ai/Flux.jl/v0.4/training/optimisers.html#Optimiser-Reference-1) but it doesn't seem to exist anymore"
   ]
  },
  {
   "cell_type": "markdown",
   "id": "fb1b47e5",
   "metadata": {},
   "source": [
    "[**The average validation error is returned**]\n",
    "when we train $K$ times in the $K$-fold cross-validation.\n"
   ]
  },
  {
   "cell_type": "code",
   "execution_count": 46,
   "id": "20aa5dc7",
   "metadata": {},
   "outputs": [
    {
     "data": {
      "text/latex": [
       "\\begin{verbatim}\n",
       "mse(ŷ, y; agg = mean)\n",
       "\\end{verbatim}\n",
       "Return the loss corresponding to mean square error:\n",
       "\n",
       "\\begin{verbatim}\n",
       "agg((ŷ .- y) .^ 2)\n",
       "\\end{verbatim}\n",
       "See also: \\href{@ref}{\\texttt{mae}}, \\href{@ref}{\\texttt{msle}}, \\href{@ref}{\\texttt{crossentropy}}.\n",
       "\n",
       "\\section{Example}\n",
       "\\begin{verbatim}\n",
       "julia> y_model = [1.1, 1.9, 3.1];\n",
       "\n",
       "julia> y_true = 1:3;\n",
       "\n",
       "julia> Flux.mse(y_model, y_true)\n",
       "0.010000000000000018\n",
       "\\end{verbatim}\n"
      ],
      "text/markdown": [
       "```\n",
       "mse(ŷ, y; agg = mean)\n",
       "```\n",
       "\n",
       "Return the loss corresponding to mean square error:\n",
       "\n",
       "```\n",
       "agg((ŷ .- y) .^ 2)\n",
       "```\n",
       "\n",
       "See also: [`mae`](@ref), [`msle`](@ref), [`crossentropy`](@ref).\n",
       "\n",
       "# Example\n",
       "\n",
       "```jldoctest\n",
       "julia> y_model = [1.1, 1.9, 3.1];\n",
       "\n",
       "julia> y_true = 1:3;\n",
       "\n",
       "julia> Flux.mse(y_model, y_true)\n",
       "0.010000000000000018\n",
       "```\n"
      ],
      "text/plain": [
       "\u001b[36m  mse(ŷ, y; agg = mean)\u001b[39m\n",
       "\n",
       "  Return the loss corresponding to mean square error:\n",
       "\n",
       "\u001b[36m  agg((ŷ .- y) .^ 2)\u001b[39m\n",
       "\n",
       "  See also: \u001b[36mmae\u001b[39m, \u001b[36mmsle\u001b[39m, \u001b[36mcrossentropy\u001b[39m.\n",
       "\n",
       "\u001b[1m  Example\u001b[22m\n",
       "\u001b[1m  ≡≡≡≡≡≡≡≡≡\u001b[22m\n",
       "\n",
       "\u001b[36m  julia> y_model = [1.1, 1.9, 3.1];\u001b[39m\n",
       "\u001b[36m  \u001b[39m\n",
       "\u001b[36m  julia> y_true = 1:3;\u001b[39m\n",
       "\u001b[36m  \u001b[39m\n",
       "\u001b[36m  julia> Flux.mse(y_model, y_true)\u001b[39m\n",
       "\u001b[36m  0.010000000000000018\u001b[39m"
      ]
     },
     "execution_count": 46,
     "metadata": {},
     "output_type": "execute_result"
    }
   ],
   "source": [
    "? Flux.mse"
   ]
  },
  {
   "cell_type": "code",
   "execution_count": 16,
   "id": "260c41f6",
   "metadata": {},
   "outputs": [
    {
     "data": {
      "text/plain": [
       "k_fold (generic function with 1 method)"
      ]
     },
     "execution_count": 16,
     "metadata": {},
     "output_type": "execute_result"
    }
   ],
   "source": [
    "using MLUtils\n",
    "\n",
    "function k_fold(max_epochs, train, k, lr)\n",
    "    val_loss, models = [], []\n",
    "    kfolds = MLUtils.kfolds(train, k)\n",
    "    \n",
    "    for (X, y) in kfolds\n",
    "        model = Flux.Dense(1 => 1)\n",
    "        parameters = Flux.params(model)\n",
    "        opt = Flux.ADAM() # Better than SGD\n",
    "        \n",
    "#         @show train_data\n",
    "\n",
    "#         for i in 1:nr_of_epoch\n",
    "#             Flux.train!(loss, parameters, train_data, opt)\n",
    "#         end\n",
    "        \n",
    "        # val_loss.append(float(model.board.data['val_loss'][-1].y))\n",
    "    end\n",
    "    @show sum(val_loss)/len(val_loss) # f'average validation log mse\n",
    "end"
   ]
  },
  {
   "cell_type": "markdown",
   "id": "f80c4bfa",
   "metadata": {},
   "source": [
    "## [**Model Selection**]\n",
    "\n",
    "In this example, we pick an untuned set of hyperparameters\n",
    "and leave it up to the reader to improve the model.\n",
    "Finding a good choice can take time,\n",
    "depending on how many variables one optimizes over.\n",
    "With a large enough dataset,\n",
    "and the normal sorts of hyperparameters,\n",
    "$K$-fold cross-validation tends to be\n",
    "reasonably resilient against multiple testing.\n",
    "However, if we try an unreasonably large number of options\n",
    "we might just get lucky and find that our validation\n",
    "performance is no longer representative of the true error.\n"
   ]
  },
  {
   "cell_type": "markdown",
   "id": "f3c7c8ed",
   "metadata": {},
   "source": [
    "### Notes:\n",
    "\n",
    "- Training implementation in python tensorflow: [here](https://d2l.ai/chapter_linear-regression/linear-regression-scratch.html#training)\n",
    "\n",
    "- Implementation:\n",
    "```\n",
    "@d2l.add_to_class(d2l.Trainer)  #@save\n",
    "def fit_epoch(self):\n",
    "    self.model.training = True\n",
    "    for batch in self.train_dataloader:\n",
    "        with tf.GradientTape() as tape:\n",
    "            loss = self.model.training_step(self.prepare_batch(batch))\n",
    "        grads = tape.gradient(loss, self.model.trainable_variables)\n",
    "        if self.gradient_clip_val > 0:\n",
    "            grads = self.clip_gradients(self.gradient_clip_val, grads)\n",
    "        self.optim.apply_gradients(zip(grads, self.model.trainable_variables))\n",
    "        self.train_batch_idx += 1\n",
    "    if self.val_dataloader is None:\n",
    "        return\n",
    "    self.model.training = False\n",
    "    for batch in self.val_dataloader:\n",
    "        self.model.validation_step(self.prepare_batch(batch))\n",
    "        self.val_batch_idx += 1\n",
    "```\n",
    "- Usage:\n",
    "```\n",
    "trainer = d2l.Trainer(max_epochs=10)\n",
    "models = k_fold(trainer, train, val, k=5, lr=0.01)\n",
    "```"
   ]
  },
  {
   "cell_type": "code",
   "execution_count": 17,
   "id": "373d6d5e",
   "metadata": {},
   "outputs": [
    {
     "ename": "LoadError",
     "evalue": "MethodError: no method matching flatten(::ObsView{DataFrame, Vector{Int64}})\n\u001b[0mClosest candidates are:\n\u001b[0m  flatten(\u001b[91m::AbstractArray\u001b[39m) at C:\\Users\\Peter.Katalin\\.julia\\packages\\MLUtils\\R44Zf\\src\\utils.jl:498",
     "output_type": "error",
     "traceback": [
      "MethodError: no method matching flatten(::ObsView{DataFrame, Vector{Int64}})\n\u001b[0mClosest candidates are:\n\u001b[0m  flatten(\u001b[91m::AbstractArray\u001b[39m) at C:\\Users\\Peter.Katalin\\.julia\\packages\\MLUtils\\R44Zf\\src\\utils.jl:498",
      "",
      "Stacktrace:",
      " [1] k_fold(max_epochs::Int64, train::DataFrame, k::Int64, lr::Float64)",
      "   @ Main .\\In[16]:13",
      " [2] top-level scope",
      "   @ In[17]:2",
      " [3] eval",
      "   @ .\\boot.jl:368 [inlined]",
      " [4] include_string(mapexpr::typeof(REPL.softscope), mod::Module, code::String, filename::String)",
      "   @ Base .\\loading.jl:1428"
     ]
    }
   ],
   "source": [
    "max_epochs = 10\n",
    "k_fold(max_epochs, train, 5, 0.01)"
   ]
  },
  {
   "cell_type": "markdown",
   "id": "b6a8bd9b",
   "metadata": {},
   "source": [
    "Notice that sometimes the number of training errors\n",
    "for a set of hyperparameters can be very low,\n",
    "even as the number of errors on $K$-fold cross-validation\n",
    "is considerably higher.\n",
    "This indicates that we are overfitting.\n",
    "Throughout training you will want to monitor both numbers.\n",
    "Less overfitting might indicate that our data can support a more powerful model.\n",
    "Massive overfitting might suggest that we can gain\n",
    "by incorporating regularization techniques.\n",
    "\n",
    "##  [**Submitting Predictions on Kaggle**]\n",
    "\n",
    "Now that we know what a good choice of hyperparameters should be,\n",
    "we might \n",
    "calculate the average predictions \n",
    "on the test set\n",
    "by all the $K$ models.\n",
    "Saving the predictions in a csv file\n",
    "will simplify uploading the results to Kaggle.\n",
    "The following code will generate a file called `submission.csv`.\n"
   ]
  },
  {
   "cell_type": "code",
   "execution_count": 47,
   "id": "fba66b40",
   "metadata": {},
   "outputs": [],
   "source": [
    "# TODO - still python code\n",
    "\n",
    "# preds = [model(torch.tensor(data.val.values, dtype=torch.float32))\n",
    "#          for model in models]\n",
    "# # Taking exponentiation of predictions in the logarithm scale\n",
    "# ensemble_preds = torch.exp(torch.cat(preds, 1)).mean(1)\n",
    "# submission = pd.DataFrame({'Id':data.raw_val.Id,\n",
    "#                            'SalePrice':ensemble_preds.detach().numpy()})\n",
    "# submission.to_csv('submission.csv', index=False)"
   ]
  },
  {
   "cell_type": "markdown",
   "id": "88204aaf",
   "metadata": {},
   "source": [
    "Next, as demonstrated in :numref:`fig_kaggle_submit2`,\n",
    "we can submit our predictions on Kaggle\n",
    "and see how they compare with the actual house prices (labels)\n",
    "on the test set.\n",
    "The steps are quite simple:\n",
    "\n",
    "* Log in to the Kaggle website and visit the house price prediction competition page.\n",
    "* Click the “Submit Predictions” or “Late Submission” button (as of this writing, the button is located on the right).\n",
    "* Click the “Upload Submission File” button in the dashed box at the bottom of the page and select the prediction file you wish to upload.\n",
    "* Click the “Make Submission” button at the bottom of the page to view your results.\n",
    "\n",
    "![Submitting data to Kaggle](../img/kaggle-submit2.png)\n",
    ":width:`400px`\n",
    ":label:`fig_kaggle_submit2`\n",
    "\n",
    "## Summary\n",
    "\n",
    "Real data often contains a mix of different data types and needs to be preprocessed.\n",
    "Rescaling real-valued data to zero mean and unit variance is a good default. So is replacing missing values with their mean.\n",
    "Besides, transforming categorical features into indicator features allows us to treat them like one-hot vectors.\n",
    "When we tend to care more about\n",
    "the relative error than about the absolute error,\n",
    "we can \n",
    "measure the discrepancy in the logarithm of the prediction.\n",
    "To select the model and adjust the hyperparameters,\n",
    "we can use $K$-fold cross-validation .\n",
    "\n",
    "\n",
    "\n",
    "## Exercises\n",
    "\n",
    "1. Submit your predictions for this section to Kaggle. How good are your predictions?\n",
    "1. Is it always a good idea to replace missing values by their mean? Hint: can you construct a situation where the values are not missing at random?\n",
    "1. Improve the score on Kaggle by tuning the hyperparameters through $K$-fold cross-validation.\n",
    "1. Improve the score by improving the model (e.g., layers, weight decay, and dropout).\n",
    "1. What happens if we do not standardize the continuous numerical features like what we have done in this section?\n"
   ]
  },
  {
   "cell_type": "markdown",
   "id": "ff231af8",
   "metadata": {},
   "source": [
    "[Discussions](https://discuss.d2l.ai/t/107)"
   ]
  },
  {
   "cell_type": "code",
   "execution_count": null,
   "id": "614e494f",
   "metadata": {},
   "outputs": [],
   "source": []
  },
  {
   "cell_type": "code",
   "execution_count": null,
   "id": "dba86f03",
   "metadata": {},
   "outputs": [],
   "source": []
  }
 ],
 "metadata": {
  "kernelspec": {
   "display_name": "Julia 1.8.2",
   "language": "julia",
   "name": "julia-1.8"
  },
  "language_info": {
   "file_extension": ".jl",
   "mimetype": "application/julia",
   "name": "julia",
   "version": "1.8.2"
  }
 },
 "nbformat": 4,
 "nbformat_minor": 5
}
